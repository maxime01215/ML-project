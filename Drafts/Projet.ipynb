{
 "cells": [
  {
   "cell_type": "code",
   "execution_count": 1,
   "metadata": {},
   "outputs": [],
   "source": [
    "\n",
    "import pandas as pd\n",
    "from sklearn.linear_model import Ridge\n",
    "from sklearn.model_selection import KFold, cross_val_score\n",
    "from scipy.signal import savgol_filter\n",
    "from scipy.stats import zscore\n",
    "from sklearn.linear_model import LinearRegression\n",
    "from sklearn.model_selection import train_test_split\n",
    "from sklearn.metrics import mean_squared_error, r2_score\n",
    "import numpy as np\n",
    "from sklearn.linear_model import Lasso\n",
    "from sklearn.model_selection import cross_val_score\n",
    "from bayes_opt import BayesianOptimization\n",
    "\n",
    "\n",
    "train_data = pd.read_csv(\"train.csv\")\n",
    "train_data.head()\n",
    "spectrum = train_data.iloc[:, 6:]\n",
    "spectrum_filtered = pd.DataFrame(savgol_filter(spectrum, 7, 3, deriv = 2, axis = 0))\n",
    "spectrum_filtered_standardized = zscore(spectrum_filtered, axis = 1)\n",
    "spectrum=spectrum_filtered_standardized\n"
   ]
  },
  {
   "cell_type": "code",
   "execution_count": 3,
   "metadata": {},
   "outputs": [
    {
     "data": {
      "text/html": [
       "<div>\n",
       "<style scoped>\n",
       "    .dataframe tbody tr th:only-of-type {\n",
       "        vertical-align: middle;\n",
       "    }\n",
       "\n",
       "    .dataframe tbody tr th {\n",
       "        vertical-align: top;\n",
       "    }\n",
       "\n",
       "    .dataframe thead th {\n",
       "        text-align: right;\n",
       "    }\n",
       "</style>\n",
       "<table border=\"1\" class=\"dataframe\">\n",
       "  <thead>\n",
       "    <tr style=\"text-align: right;\">\n",
       "      <th></th>\n",
       "      <th>sample_name</th>\n",
       "      <th>device_serial</th>\n",
       "      <th>substance_form_display</th>\n",
       "      <th>measure_type_display</th>\n",
       "      <th>prod_substance</th>\n",
       "      <th>908.1</th>\n",
       "      <th>914.3</th>\n",
       "      <th>920.5</th>\n",
       "      <th>926.7</th>\n",
       "      <th>932.9</th>\n",
       "      <th>...</th>\n",
       "      <th>1620.5</th>\n",
       "      <th>1626.6</th>\n",
       "      <th>1632.8</th>\n",
       "      <th>1639</th>\n",
       "      <th>1645.2</th>\n",
       "      <th>1651.4</th>\n",
       "      <th>1657.6</th>\n",
       "      <th>1663.8</th>\n",
       "      <th>1670</th>\n",
       "      <th>1676.2</th>\n",
       "    </tr>\n",
       "  </thead>\n",
       "  <tbody>\n",
       "    <tr>\n",
       "      <th>0</th>\n",
       "      <td>19.0278-P012</td>\n",
       "      <td>N1-00196</td>\n",
       "      <td>Unspecified</td>\n",
       "      <td>Direct contact</td>\n",
       "      <td>Heroin</td>\n",
       "      <td>0.319735</td>\n",
       "      <td>0.295819</td>\n",
       "      <td>0.270899</td>\n",
       "      <td>0.243264</td>\n",
       "      <td>0.217097</td>\n",
       "      <td>...</td>\n",
       "      <td>0.359934</td>\n",
       "      <td>0.377715</td>\n",
       "      <td>0.402409</td>\n",
       "      <td>0.428230</td>\n",
       "      <td>0.446599</td>\n",
       "      <td>0.458475</td>\n",
       "      <td>0.469842</td>\n",
       "      <td>0.485597</td>\n",
       "      <td>0.504140</td>\n",
       "      <td>0.514772</td>\n",
       "    </tr>\n",
       "    <tr>\n",
       "      <th>1</th>\n",
       "      <td>18.0391-P005</td>\n",
       "      <td>N1-00253</td>\n",
       "      <td>Homogenized Powder</td>\n",
       "      <td>Direct contact</td>\n",
       "      <td>Heroin</td>\n",
       "      <td>0.226916</td>\n",
       "      <td>0.207225</td>\n",
       "      <td>0.190766</td>\n",
       "      <td>0.168512</td>\n",
       "      <td>0.151020</td>\n",
       "      <td>...</td>\n",
       "      <td>0.293179</td>\n",
       "      <td>0.313406</td>\n",
       "      <td>0.339447</td>\n",
       "      <td>0.363128</td>\n",
       "      <td>0.378458</td>\n",
       "      <td>0.389861</td>\n",
       "      <td>0.403287</td>\n",
       "      <td>0.420659</td>\n",
       "      <td>0.437016</td>\n",
       "      <td>0.444588</td>\n",
       "    </tr>\n",
       "    <tr>\n",
       "      <th>2</th>\n",
       "      <td>19.0140-P005</td>\n",
       "      <td>M1-1000130</td>\n",
       "      <td>Unspecified</td>\n",
       "      <td>Direct contact</td>\n",
       "      <td>Heroin</td>\n",
       "      <td>0.046564</td>\n",
       "      <td>0.045257</td>\n",
       "      <td>0.043468</td>\n",
       "      <td>0.040846</td>\n",
       "      <td>0.036622</td>\n",
       "      <td>...</td>\n",
       "      <td>0.013788</td>\n",
       "      <td>0.018772</td>\n",
       "      <td>0.024496</td>\n",
       "      <td>0.031343</td>\n",
       "      <td>0.039946</td>\n",
       "      <td>0.050913</td>\n",
       "      <td>0.063271</td>\n",
       "      <td>0.075548</td>\n",
       "      <td>0.086800</td>\n",
       "      <td>0.092967</td>\n",
       "    </tr>\n",
       "    <tr>\n",
       "      <th>3</th>\n",
       "      <td>21.0256-P002</td>\n",
       "      <td>M1-1000186</td>\n",
       "      <td>Unspecified</td>\n",
       "      <td>Direct contact</td>\n",
       "      <td>Heroin</td>\n",
       "      <td>0.098065</td>\n",
       "      <td>0.093345</td>\n",
       "      <td>0.088876</td>\n",
       "      <td>0.082929</td>\n",
       "      <td>0.075919</td>\n",
       "      <td>...</td>\n",
       "      <td>0.094459</td>\n",
       "      <td>0.101433</td>\n",
       "      <td>0.110424</td>\n",
       "      <td>0.119050</td>\n",
       "      <td>0.126849</td>\n",
       "      <td>0.134916</td>\n",
       "      <td>0.144614</td>\n",
       "      <td>0.155248</td>\n",
       "      <td>0.164954</td>\n",
       "      <td>0.171373</td>\n",
       "    </tr>\n",
       "    <tr>\n",
       "      <th>4</th>\n",
       "      <td>21.0153-P002</td>\n",
       "      <td>M1-1000131</td>\n",
       "      <td>Unspecified</td>\n",
       "      <td>Direct contact</td>\n",
       "      <td>Heroin</td>\n",
       "      <td>0.108564</td>\n",
       "      <td>0.100385</td>\n",
       "      <td>0.091454</td>\n",
       "      <td>0.080773</td>\n",
       "      <td>0.069861</td>\n",
       "      <td>...</td>\n",
       "      <td>0.163307</td>\n",
       "      <td>0.172527</td>\n",
       "      <td>0.184349</td>\n",
       "      <td>0.194129</td>\n",
       "      <td>0.200030</td>\n",
       "      <td>0.204255</td>\n",
       "      <td>0.208832</td>\n",
       "      <td>0.215167</td>\n",
       "      <td>0.221264</td>\n",
       "      <td>0.223499</td>\n",
       "    </tr>\n",
       "  </tbody>\n",
       "</table>\n",
       "<p>5 rows × 130 columns</p>\n",
       "</div>"
      ],
      "text/plain": [
       "    sample_name device_serial substance_form_display measure_type_display  \\\n",
       "0  19.0278-P012      N1-00196            Unspecified       Direct contact   \n",
       "1  18.0391-P005      N1-00253     Homogenized Powder       Direct contact   \n",
       "2  19.0140-P005    M1-1000130            Unspecified       Direct contact   \n",
       "3  21.0256-P002    M1-1000186            Unspecified       Direct contact   \n",
       "4  21.0153-P002    M1-1000131            Unspecified       Direct contact   \n",
       "\n",
       "  prod_substance     908.1     914.3     920.5     926.7     932.9  ...  \\\n",
       "0         Heroin  0.319735  0.295819  0.270899  0.243264  0.217097  ...   \n",
       "1         Heroin  0.226916  0.207225  0.190766  0.168512  0.151020  ...   \n",
       "2         Heroin  0.046564  0.045257  0.043468  0.040846  0.036622  ...   \n",
       "3         Heroin  0.098065  0.093345  0.088876  0.082929  0.075919  ...   \n",
       "4         Heroin  0.108564  0.100385  0.091454  0.080773  0.069861  ...   \n",
       "\n",
       "     1620.5    1626.6    1632.8      1639    1645.2    1651.4    1657.6  \\\n",
       "0  0.359934  0.377715  0.402409  0.428230  0.446599  0.458475  0.469842   \n",
       "1  0.293179  0.313406  0.339447  0.363128  0.378458  0.389861  0.403287   \n",
       "2  0.013788  0.018772  0.024496  0.031343  0.039946  0.050913  0.063271   \n",
       "3  0.094459  0.101433  0.110424  0.119050  0.126849  0.134916  0.144614   \n",
       "4  0.163307  0.172527  0.184349  0.194129  0.200030  0.204255  0.208832   \n",
       "\n",
       "     1663.8      1670    1676.2  \n",
       "0  0.485597  0.504140  0.514772  \n",
       "1  0.420659  0.437016  0.444588  \n",
       "2  0.075548  0.086800  0.092967  \n",
       "3  0.155248  0.164954  0.171373  \n",
       "4  0.215167  0.221264  0.223499  \n",
       "\n",
       "[5 rows x 130 columns]"
      ]
     },
     "execution_count": 3,
     "metadata": {},
     "output_type": "execute_result"
    }
   ],
   "source": [
    "df = pd.read_csv(\"test.csv\")\n",
    "df.head()"
   ]
  },
  {
   "cell_type": "code",
   "execution_count": 4,
   "metadata": {},
   "outputs": [
    {
     "data": {
      "text/plain": [
       "<matplotlib.legend.Legend at 0x7fa934558820>"
      ]
     },
     "execution_count": 4,
     "metadata": {},
     "output_type": "execute_result"
    },
    {
     "data": {
      "image/png": "[encoded data removed]",
      "text/plain": [
       "<Figure size 640x480 with 1 Axes>"
      ]
     },
     "metadata": {},
     "output_type": "display_data"
    }
   ],
   "source": [
    "import matplotlib.pyplot as plt\n",
    "import seaborn as sns\n",
    "\n",
    "# Calculate mean and standard deviation\n",
    "mean_rt = train_data['PURITY'].mean()\n",
    "std_rt = train_data['PURITY'].std()\n",
    "\n",
    "# Create histogram\n",
    "sns.kdeplot(data = train_data, x = 'PURITY', fill = True)\n",
    "plt.title('PURITY Time Distribution')\n",
    "plt.xlabel('PURITY')\n",
    "plt.ylabel('Frequency')\n",
    "# Add a vertical line for the mean\n",
    "plt.axvline(mean_rt, color='red', linestyle='dashed', linewidth=2, label=f'Mean: {mean_rt:.2f}')\n",
    "\n",
    "# Add vertical lines for one standard deviation above and below the mean\n",
    "plt.axvline(mean_rt + std_rt, color='yellow', linestyle='dashed', linewidth=2, label=f'+1 STD: {mean_rt + std_rt:.2f}')\n",
    "plt.axvline(mean_rt - std_rt, color='blue', linestyle='dashed', linewidth=2, label=f'-1 STD: {mean_rt - std_rt:.2f}')\n",
    "\n",
    "plt.legend()\n"
   ]
  },
  {
   "cell_type": "markdown",
   "metadata": {},
   "source": [
    "Skewness: Since the data is skewed, machine learning models may benefit from transformations (such as a log or square root transformation) to handle the skewness and improve model performance.\n",
    "Target Distribution: The concentration of data in the mid-range suggests that most cases involve moderate purity levels, with fewer samples representing very low or very high purity."
   ]
  },
  {
   "cell_type": "code",
   "execution_count": 131,
   "metadata": {},
   "outputs": [],
   "source": [
    "# Check for missing values and negative spectral values\n",
    "missing_values = train_data.isnull().sum()\n",
    "spectral_columns = train_data.columns[6:]\n",
    "#negative_values = (data[spectral_columns] < 0).sum()\n",
    "\n",
    "#missing_values_summary = missing_values[missing_values > 0]\n",
    "#negative_values_summary = negative_values[negative_values > 0]\n",
    "\n",
    "#missing_values_summary, negative_values_summary\n"
   ]
  },
  {
   "cell_type": "code",
   "execution_count": 132,
   "metadata": {},
   "outputs": [
    {
     "data": {
      "text/plain": [
       "0"
      ]
     },
     "execution_count": 132,
     "metadata": {},
     "output_type": "execute_result"
    }
   ],
   "source": [
    "# Replace negative values with a small positive value (e.g., 0.001)\n",
    "train_data[spectral_columns] = train_data[spectral_columns].map(lambda x: max(x, 0.001))\n",
    "\n",
    "# Confirm that no negative values remain\n",
    "negative_values_after_correction = (train_data[spectral_columns] < 0).sum().sum()\n",
    "negative_values_after_correction\n"
   ]
  },
  {
   "cell_type": "markdown",
   "metadata": {},
   "source": [
    "# <center> Linear Methods"
   ]
  },
  {
   "cell_type": "code",
   "execution_count": null,
   "metadata": {},
   "outputs": [],
   "source": [
    "train_data_1 = train_data.copy()\n",
    "X = spectrum\n",
    "y = train_data_1['PURITY']\n",
    "#Split the train set \n",
    "X_train, X_test, y_train, y_test = train_test_split(X, y, test_size=0.2, random_state=42)\n"
   ]
  },
  {
   "cell_type": "code",
   "execution_count": 5,
   "metadata": {},
   "outputs": [],
   "source": [
    "\n",
    "# Generic Bayesian optimization function\n",
    "def optimize_model(model_class, param_bounds, model_params, cv_params):\n",
    "    def cv_score(**params):\n",
    "        model = model_class(**{**model_params, **params})\n",
    "        cv_score = cross_val_score(model, **cv_params)\n",
    "        return np.mean(cv_score)\n",
    "\n",
    "    optimizer = BayesianOptimization(f=cv_score, pbounds=param_bounds, random_state=42)\n",
    "    optimizer.maximize(init_points=10, n_iter=10)\n",
    "    return optimizer.max['params']\n",
    "\n"
   ]
  },
  {
   "cell_type": "code",
   "execution_count": null,
   "metadata": {},
   "outputs": [
    {
     "name": "stdout",
     "output_type": "stream",
     "text": [
      "|   iter    |  target   |   alpha   |\n",
      "-------------------------------------\n",
      "| \u001b[39m1        \u001b[39m | \u001b[39m-44.59   \u001b[39m | \u001b[39m0.0003745\u001b[39m |\n",
      "| \u001b[39m2        \u001b[39m | \u001b[39m-49.36   \u001b[39m | \u001b[39m0.0009507\u001b[39m |\n",
      "| \u001b[39m3        \u001b[39m | \u001b[39m-47.96   \u001b[39m | \u001b[39m0.000732 \u001b[39m |\n",
      "| \u001b[39m4        \u001b[39m | \u001b[39m-46.92   \u001b[39m | \u001b[39m0.0005987\u001b[39m |\n",
      "| \u001b[35m5        \u001b[39m | \u001b[35m-40.8    \u001b[39m | \u001b[35m0.000156 \u001b[39m |\n",
      "| \u001b[35m6        \u001b[39m | \u001b[35m-40.8    \u001b[39m | \u001b[35m0.000156 \u001b[39m |\n",
      "| \u001b[35m7        \u001b[39m | \u001b[35m-37.36   \u001b[39m | \u001b[35m5.808e-05\u001b[39m |\n",
      "| \u001b[39m8        \u001b[39m | \u001b[39m-48.86   \u001b[39m | \u001b[39m0.0008662\u001b[39m |\n",
      "| \u001b[39m9        \u001b[39m | \u001b[39m-46.94   \u001b[39m | \u001b[39m0.0006011\u001b[39m |\n",
      "| \u001b[39m10       \u001b[39m | \u001b[39m-47.79   \u001b[39m | \u001b[39m0.0007081\u001b[39m |\n",
      "| \u001b[35m11       \u001b[39m | \u001b[35m-34.7    \u001b[39m | \u001b[35m1e-10    \u001b[39m |\n",
      "| \u001b[39m12       \u001b[39m | \u001b[39m-34.7    \u001b[39m | \u001b[39m1e-10    \u001b[39m |\n",
      "| \u001b[35m13       \u001b[39m | \u001b[35m-34.04   \u001b[39m | \u001b[35m4.822e-08\u001b[39m |\n",
      "| \u001b[35m14       \u001b[39m | \u001b[35m-33.11   \u001b[39m | \u001b[35m7.675e-06\u001b[39m |\n",
      "| \u001b[35m15       \u001b[39m | \u001b[35m-32.5    \u001b[39m | \u001b[35m3.49e-06 \u001b[39m |\n",
      "| \u001b[39m16       \u001b[39m | \u001b[39m-34.22   \u001b[39m | \u001b[39m1.637e-05\u001b[39m |\n",
      "| \u001b[39m17       \u001b[39m | \u001b[39m-33.66   \u001b[39m | \u001b[39m1.171e-05\u001b[39m |\n",
      "| \u001b[39m18       \u001b[39m | \u001b[39m-35.45   \u001b[39m | \u001b[39m2.902e-05\u001b[39m |\n",
      "| \u001b[39m19       \u001b[39m | \u001b[39m-38.21   \u001b[39m | \u001b[39m7.591e-05\u001b[39m |\n",
      "| \u001b[39m20       \u001b[39m | \u001b[39m-39.06   \u001b[39m | \u001b[39m9.734e-05\u001b[39m |\n",
      "| \u001b[39m21       \u001b[39m | \u001b[39m-36.53   \u001b[39m | \u001b[39m4.372e-05\u001b[39m |\n",
      "| \u001b[39m22       \u001b[39m | \u001b[39m-39.86   \u001b[39m | \u001b[39m0.0001215\u001b[39m |\n",
      "| \u001b[39m23       \u001b[39m | \u001b[39m-42.95   \u001b[39m | \u001b[39m0.0002614\u001b[39m |\n",
      "| \u001b[39m24       \u001b[39m | \u001b[39m-45.86   \u001b[39m | \u001b[39m0.000486 \u001b[39m |\n",
      "| \u001b[35m25       \u001b[39m | \u001b[35m-32.33   \u001b[39m | \u001b[35m1.508e-06\u001b[39m |\n",
      "| \u001b[39m26       \u001b[39m | \u001b[39m-48.42   \u001b[39m | \u001b[39m0.0007986\u001b[39m |\n",
      "| \u001b[39m27       \u001b[39m | \u001b[39m-41.9    \u001b[39m | \u001b[39m0.0002048\u001b[39m |\n",
      "| \u001b[39m28       \u001b[39m | \u001b[39m-43.81   \u001b[39m | \u001b[39m0.0003166\u001b[39m |\n",
      "| \u001b[39m29       \u001b[39m | \u001b[39m-45.25   \u001b[39m | \u001b[39m0.0004295\u001b[39m |\n",
      "| \u001b[39m30       \u001b[39m | \u001b[39m-46.41   \u001b[39m | \u001b[39m0.0005425\u001b[39m |\n",
      "| \u001b[39m31       \u001b[39m | \u001b[39m-47.37   \u001b[39m | \u001b[39m0.000654 \u001b[39m |\n",
      "| \u001b[39m32       \u001b[39m | \u001b[39m-49.64   \u001b[39m | \u001b[39m0.001    \u001b[39m |\n",
      "| \u001b[39m33       \u001b[39m | \u001b[39m-49.11   \u001b[39m | \u001b[39m0.0009083\u001b[39m |\n",
      "| \u001b[39m34       \u001b[39m | \u001b[39m-42.42   \u001b[39m | \u001b[39m0.0002314\u001b[39m |\n",
      "| \u001b[39m35       \u001b[39m | \u001b[39m-41.39   \u001b[39m | \u001b[39m0.0001808\u001b[39m |\n",
      "| \u001b[39m36       \u001b[39m | \u001b[39m-43.38   \u001b[39m | \u001b[39m0.0002879\u001b[39m |\n",
      "| \u001b[39m37       \u001b[39m | \u001b[39m-44.2    \u001b[39m | \u001b[39m0.0003447\u001b[39m |\n",
      "| \u001b[39m38       \u001b[39m | \u001b[39m-48.2    \u001b[39m | \u001b[39m0.0007649\u001b[39m |\n",
      "| \u001b[39m39       \u001b[39m | \u001b[39m-40.3    \u001b[39m | \u001b[39m0.0001369\u001b[39m |\n",
      "| \u001b[39m40       \u001b[39m | \u001b[39m-48.64   \u001b[39m | \u001b[39m0.0008322\u001b[39m |\n",
      "=====================================\n",
      "Best Alpha (Regularization Strength): 1.5077521990619583e-06\n",
      "Final Test RMSE: 5.860055444510059\n"
     ]
    },
    {
     "name": "stderr",
     "output_type": "stream",
     "text": [
      "/Users/mariemmaazoun/anaconda3/envs/MLCourse/lib/python3.10/site-packages/sklearn/metrics/_regression.py:492: FutureWarning: 'squared' is deprecated in version 1.4 and will be removed in 1.6. To calculate the root mean squared error, use the function'root_mean_squared_error'.\n",
      "  warnings.warn(\n"
     ]
    }
   ],
   "source": [
    "\n",
    "# Define a generic Bayesian optimization function for Ridge regression\n",
    "def optimize_ridge_model(X, Y):\n",
    "    # Define KFold cross-validation\n",
    "    kf = KFold(n_splits=5, shuffle=True, random_state=42)\n",
    "\n",
    "    # Define the Bayesian optimization scoring function\n",
    "    def cv_score(alpha):\n",
    "        model = Ridge(alpha=alpha)\n",
    "        cv_scores = cross_val_score(model, X, y, cv=kf, scoring='neg_mean_squared_error')\n",
    "        return np.mean(cv_scores)\n",
    "\n",
    "    # Define parameter bounds for Bayesian Optimization\n",
    "    param_bounds = {'alpha': (1e-10, 1e-3)}\n",
    "\n",
    "    # Run Bayesian Optimization\n",
    "    optimizer = BayesianOptimization(f=cv_score, pbounds=param_bounds, random_state=42)\n",
    "    optimizer.maximize(init_points=10, n_iter=30)\n",
    "\n",
    "    return optimizer.max['params']\n",
    "\n",
    "# Tune Ridge regression using Bayesian Optimization\n",
    "best_params_ridge = optimize_ridge_model(X, y)\n",
    "\n",
    "# Train the Ridge model with the optimized parameters\n",
    "ridge_model = Ridge(alpha=best_params_ridge['alpha'])\n",
    "ridge_model.fit(X_train, y_train)\n",
    "\n",
    "# Evaluate the model on the test set\n",
    "y_pred_ridge = ridge_model.predict(X_test)\n",
    "final_rmse_ridge = mean_squared_error(y_test, y_pred_ridge, squared=False)\n",
    "\n",
    "# Display results\n",
    "print(\"Best Alpha (Regularization Strength):\", best_params_ridge['alpha'])\n",
    "print(\"Final Test RMSE:\", final_rmse_ridge)\n"
   ]
  },
  {
   "cell_type": "markdown",
   "metadata": {},
   "source": [
    "# <center> Submission"
   ]
  },
  {
   "cell_type": "code",
   "execution_count": 178,
   "metadata": {},
   "outputs": [
    {
     "name": "stdout",
     "output_type": "stream",
     "text": [
      "Submission file 'ridge_regression_submission.csv' created successfully!\n"
     ]
    },
    {
     "name": "stderr",
     "output_type": "stream",
     "text": [
      "/Users/mariemmaazoun/anaconda3/envs/MLCourse/lib/python3.10/site-packages/sklearn/base.py:493: UserWarning: X does not have valid feature names, but Ridge was fitted with feature names\n",
      "  warnings.warn(\n"
     ]
    }
   ],
   "source": [
    "data_test_kag = pd.read_csv(\"test.csv\")\n",
    "X_test_kag = data_test_kag.iloc[:,5:].values\n",
    "#X_test_kag_filtered = pd.DataFrame(savgol_filter(X_test_kag, 7, 3, deriv = 2, axis = 0))\n",
    "#X_test_kag_filtered_standardized = zscore(X_test_kag_filtered, axis = 1)\n",
    "test_kag_preds = ridge_model.predict(X_test_kag)\n",
    "test_kag_preds.reshape(-1,1)\n",
    "\n",
    "# Create dataframe with indices and purity\n",
    "indices = data_test_kag.index + 1\n",
    "purity = test_kag_preds\n",
    "\n",
    "df = pd.DataFrame({\n",
    "    'ID': indices,\n",
    "    'PURITY': purity.flatten()\n",
    "})\n",
    "\n",
    "df.to_csv('submission1.csv', index=False)\n",
    "\n",
    "print(\"Submission file 'ridge_regression_submission.csv' created successfully!\")\n"
   ]
  }
 ],
 "metadata": {
  "kernelspec": {
   "display_name": "MLCourse",
   "language": "python",
   "name": "python3"
  },
  "language_info": {
   "codemirror_mode": {
    "name": "ipython",
    "version": 3
   },
   "file_extension": ".py",
   "mimetype": "text/x-python",
   "name": "python",
   "nbconvert_exporter": "python",
   "pygments_lexer": "ipython3",
   "version": "3.10.8"
  }
 },
 "nbformat": 4,
 "nbformat_minor": 2
}
