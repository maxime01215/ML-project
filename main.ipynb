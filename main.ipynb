{
 "cells": [
  {
   "cell_type": "markdown",
   "id": "d51b09b2-bb0d-45b6-a66c-1ce141556786",
   "metadata": {},
   "source": [
    "# <center> Machine learning Miniproject\n",
    "## <center> By Mariem Maazoun and Maxime Lehmann"
   ]
  },
  {
   "cell_type": "markdown",
   "id": "100ca840-7ea7-4195-ba99-470d4a0b2881",
   "metadata": {},
   "source": [
    "### Project Introduction :"
   ]
  },
  {
   "cell_type": "markdown",
   "id": "f2dd98b5",
   "metadata": {},
   "source": [
    "Near-infrared spectroscopy is a method to detect the presence and even the quantity of cetrain chemical compounds by analysing the near-infrared reagion of the electomagnegtic spectrum. This method is far faster and cheaper than lab methods like chromatography and today is the most widely used analysis by law enforcement when they need to ascertain whether a substance contains illegal drug. Each differant compound having a different absorption spectrum when can differentiate the chemical compounds by their spectrum. In this project we will be given for each sample the near-infrared spectrum, the device used for the measurement, the form of the substance sample and whether the sample was measured with direct contact and through a glass. In the train set we will also have the heroin purity of the sample but not for the test set, our goal is to be able to compute the heroin purity of the test sample based mainly on the infrared spectrum using maching learning tools."
   ]
  },
  {
   "cell_type": "code",
   "execution_count": 1,
   "id": "d6b9b2df-471a-4cad-898f-6595af10b1db",
   "metadata": {
    "execution": {
     "iopub.execute_input": "2024-12-20T15:12:35.913877Z",
     "iopub.status.busy": "2024-12-20T15:12:35.912532Z",
     "iopub.status.idle": "2024-12-20T15:12:39.883825Z",
     "shell.execute_reply": "2024-12-20T15:12:39.882625Z",
     "shell.execute_reply.started": "2024-12-20T15:12:35.913802Z"
    }
   },
   "outputs": [
    {
     "name": "stdout",
     "output_type": "stream",
     "text": [
      "Defaulting to user installation because normal site-packages is not writeable\n",
      "Requirement already satisfied: optuna in /home/.local/lib/python3.12/site-packages (4.1.0)\n",
      "Requirement already satisfied: alembic>=1.5.0 in /opt/jlab-env/lib/python3.12/site-packages (from optuna) (1.13.2)\n",
      "Requirement already satisfied: colorlog in /home/.local/lib/python3.12/site-packages (from optuna) (6.9.0)\n",
      "Requirement already satisfied: numpy in /opt/jlab-env/lib/python3.12/site-packages (from optuna) (1.26.4)\n",
      "Requirement already satisfied: packaging>=20.0 in /opt/jlab-env/lib/python3.12/site-packages (from optuna) (24.1)\n",
      "Requirement already satisfied: sqlalchemy>=1.4.2 in /opt/jlab-env/lib/python3.12/site-packages (from optuna) (2.0.31)\n",
      "Requirement already satisfied: tqdm in /opt/jlab-env/lib/python3.12/site-packages (from optuna) (4.66.4)\n",
      "Requirement already satisfied: PyYAML in /opt/jlab-env/lib/python3.12/site-packages (from optuna) (6.0.2)\n",
      "Requirement already satisfied: Mako in /opt/jlab-env/lib/python3.12/site-packages (from alembic>=1.5.0->optuna) (1.3.5)\n",
      "Requirement already satisfied: typing-extensions>=4 in /opt/jlab-env/lib/python3.12/site-packages (from alembic>=1.5.0->optuna) (4.12.2)\n",
      "Requirement already satisfied: greenlet!=0.4.17 in /opt/jlab-env/lib/python3.12/site-packages (from sqlalchemy>=1.4.2->optuna) (3.0.3)\n",
      "Requirement already satisfied: MarkupSafe>=0.9.2 in /opt/jlab-env/lib/python3.12/site-packages (from Mako->alembic>=1.5.0->optuna) (2.1.5)\n"
     ]
    }
   ],
   "source": [
    "import sys\n",
    "!{sys.executable} -m pip install optuna"
   ]
  },
  {
   "cell_type": "code",
   "execution_count": 2,
   "id": "5bc0b25a-0a15-49e3-9edb-555ad83ddb5f",
   "metadata": {
    "execution": {
     "iopub.execute_input": "2024-12-20T15:57:48.243911Z",
     "iopub.status.busy": "2024-12-20T15:57:48.242784Z",
     "iopub.status.idle": "2024-12-20T15:58:33.248039Z",
     "shell.execute_reply": "2024-12-20T15:58:33.246644Z",
     "shell.execute_reply.started": "2024-12-20T15:57:48.243784Z"
    }
   },
   "outputs": [],
   "source": [
    "from torch.utils.data import DataLoader  , TensorDataset\n",
    "import optuna\n",
    "from skorch.helper import DataFrameTransformer\n",
    "import torch.nn.functional as F\n",
    "from scipy.signal import savgol_filter\n",
    "from scipy.stats import zscore"
   ]
  },
  {
   "cell_type": "code",
   "execution_count": 3,
   "id": "b8acde75-3ddc-429a-876a-b175fb279d1d",
   "metadata": {
    "execution": {
     "iopub.execute_input": "2024-12-20T15:58:33.343020Z",
     "iopub.status.busy": "2024-12-20T15:58:33.338198Z",
     "iopub.status.idle": "2024-12-20T15:58:51.042921Z",
     "shell.execute_reply": "2024-12-20T15:58:51.036997Z",
     "shell.execute_reply.started": "2024-12-20T15:58:33.342917Z"
    }
   },
   "outputs": [],
   "source": [
    "import pandas as pd\n",
    "import matplotlib.pyplot as plt\n",
    "import seaborn as sns\n",
    "import numpy as np\n",
    "import torch\n",
    "import torch.nn as nn\n",
    "import torch.optim as optim \n",
    "from sklearn.linear_model import LinearRegression, BayesianRidge, Ridge, Lasso\n",
    "from sklearn.model_selection import train_test_split, GridSearchCV, KFold, cross_val_score\n",
    "from sklearn.metrics import mean_squared_error, r2_score, make_scorer\n",
    "from sklearn.preprocessing import StandardScaler\n",
    "from sklearn.exceptions import ConvergenceWarning\n",
    "from sklearn.ensemble import RandomForestRegressor\n",
    "from sklearn.feature_selection import SelectFromModel\n",
    "import sklearn\n",
    "import skorch\n",
    "from skorch import NeuralNetRegressor\n",
    "from bayes_opt import BayesianOptimization\n",
    "from scipy.signal import savgol_filter\n",
    "from scipy.stats import zscore\n",
    "import torch \n",
    "import warnings\n",
    "\n",
    "# For reproductibility\n",
    "seed = 42"
   ]
  },
  {
   "cell_type": "markdown",
   "id": "c70a4c65-64c4-43dd-8857-978214e0cd76",
   "metadata": {},
   "source": [
    "## 1. Data Inspection : \n",
    "Loading, exploration and visualisation of the data"
   ]
  },
  {
   "cell_type": "code",
   "execution_count": 5,
   "id": "68fcb47f-e1aa-4325-84e7-366b374320ca",
   "metadata": {
    "execution": {
     "iopub.execute_input": "2024-12-20T16:00:15.236849Z",
     "iopub.status.busy": "2024-12-20T16:00:15.147891Z",
     "iopub.status.idle": "2024-12-20T16:00:17.137815Z",
     "shell.execute_reply": "2024-12-20T16:00:17.051090Z",
     "shell.execute_reply.started": "2024-12-20T16:00:15.236731Z"
    }
   },
   "outputs": [],
   "source": [
    "df_train = pd.read_csv('Data/train.csv')\n",
    "df_test = pd.read_csv('Data/test.csv')"
   ]
  },
  {
   "cell_type": "code",
   "execution_count": 5,
   "id": "7ca42cfa-830f-4164-a8cb-05c3b34580a1",
   "metadata": {
    "execution": {
     "iopub.execute_input": "2024-12-20T15:12:45.968748Z",
     "iopub.status.busy": "2024-12-20T15:12:45.968449Z",
     "iopub.status.idle": "2024-12-20T15:12:45.989160Z",
     "shell.execute_reply": "2024-12-20T15:12:45.985736Z",
     "shell.execute_reply.started": "2024-12-20T15:12:45.968722Z"
    }
   },
   "outputs": [
    {
     "data": {
      "text/plain": [
       "(1300, 131)"
      ]
     },
     "execution_count": 5,
     "metadata": {},
     "output_type": "execute_result"
    }
   ],
   "source": [
    "df_train.shape"
   ]
  },
  {
   "cell_type": "code",
   "execution_count": 6,
   "id": "6dcfc7aa-7da8-4c23-90d1-316d23aa4044",
   "metadata": {
    "execution": {
     "iopub.execute_input": "2024-12-20T15:12:45.997219Z",
     "iopub.status.busy": "2024-12-20T15:12:45.996399Z",
     "iopub.status.idle": "2024-12-20T15:12:46.038781Z",
     "shell.execute_reply": "2024-12-20T15:12:46.034963Z",
     "shell.execute_reply.started": "2024-12-20T15:12:45.997141Z"
    }
   },
   "outputs": [
    {
     "data": {
      "text/plain": [
       "(608, 130)"
      ]
     },
     "execution_count": 6,
     "metadata": {},
     "output_type": "execute_result"
    }
   ],
   "source": [
    "df_test.shape"
   ]
  },
  {
   "cell_type": "code",
   "execution_count": 7,
   "id": "708c4e3e-a990-47cd-ad54-8a2e45406715",
   "metadata": {
    "execution": {
     "iopub.execute_input": "2024-12-20T15:12:46.043405Z",
     "iopub.status.busy": "2024-12-20T15:12:46.042108Z",
     "iopub.status.idle": "2024-12-20T15:12:46.120795Z",
     "shell.execute_reply": "2024-12-20T15:12:46.119516Z",
     "shell.execute_reply.started": "2024-12-20T15:12:46.043324Z"
    }
   },
   "outputs": [
    {
     "data": {
      "text/html": [
       "<div>\n",
       "<style scoped>\n",
       "    .dataframe tbody tr th:only-of-type {\n",
       "        vertical-align: middle;\n",
       "    }\n",
       "\n",
       "    .dataframe tbody tr th {\n",
       "        vertical-align: top;\n",
       "    }\n",
       "\n",
       "    .dataframe thead th {\n",
       "        text-align: right;\n",
       "    }\n",
       "</style>\n",
       "<table border=\"1\" class=\"dataframe\">\n",
       "  <thead>\n",
       "    <tr style=\"text-align: right;\">\n",
       "      <th></th>\n",
       "      <th>sample_name</th>\n",
       "      <th>device_serial</th>\n",
       "      <th>substance_form_display</th>\n",
       "      <th>measure_type_display</th>\n",
       "      <th>prod_substance</th>\n",
       "      <th>PURITY</th>\n",
       "      <th>908.1</th>\n",
       "      <th>914.3</th>\n",
       "      <th>920.5</th>\n",
       "      <th>926.7</th>\n",
       "      <th>...</th>\n",
       "      <th>1620.5</th>\n",
       "      <th>1626.6</th>\n",
       "      <th>1632.8</th>\n",
       "      <th>1639</th>\n",
       "      <th>1645.2</th>\n",
       "      <th>1651.4</th>\n",
       "      <th>1657.6</th>\n",
       "      <th>1663.8</th>\n",
       "      <th>1670</th>\n",
       "      <th>1676.2</th>\n",
       "    </tr>\n",
       "  </thead>\n",
       "  <tbody>\n",
       "    <tr>\n",
       "      <th>0</th>\n",
       "      <td>11140009</td>\n",
       "      <td>M1-1000112</td>\n",
       "      <td>Homogenized Powder</td>\n",
       "      <td>Direct contact</td>\n",
       "      <td>Heroin</td>\n",
       "      <td>58.500000</td>\n",
       "      <td>0.044734</td>\n",
       "      <td>0.042720</td>\n",
       "      <td>0.041361</td>\n",
       "      <td>0.040055</td>\n",
       "      <td>...</td>\n",
       "      <td>0.003972</td>\n",
       "      <td>0.007906</td>\n",
       "      <td>0.012490</td>\n",
       "      <td>0.018123</td>\n",
       "      <td>0.025070</td>\n",
       "      <td>0.033235</td>\n",
       "      <td>0.042502</td>\n",
       "      <td>0.052237</td>\n",
       "      <td>0.061383</td>\n",
       "      <td>0.068823</td>\n",
       "    </tr>\n",
       "    <tr>\n",
       "      <th>1</th>\n",
       "      <td>22.0401-P002.02</td>\n",
       "      <td>M1-1000109</td>\n",
       "      <td>Non homogenized powder</td>\n",
       "      <td>Direct contact</td>\n",
       "      <td>Heroin</td>\n",
       "      <td>18.600000</td>\n",
       "      <td>0.063695</td>\n",
       "      <td>0.056980</td>\n",
       "      <td>0.050080</td>\n",
       "      <td>0.043339</td>\n",
       "      <td>...</td>\n",
       "      <td>0.093002</td>\n",
       "      <td>0.099668</td>\n",
       "      <td>0.108805</td>\n",
       "      <td>0.117120</td>\n",
       "      <td>0.121947</td>\n",
       "      <td>0.125137</td>\n",
       "      <td>0.128688</td>\n",
       "      <td>0.133501</td>\n",
       "      <td>0.138187</td>\n",
       "      <td>0.140248</td>\n",
       "    </tr>\n",
       "    <tr>\n",
       "      <th>2</th>\n",
       "      <td>22.0117-P001.02</td>\n",
       "      <td>M1-1000100</td>\n",
       "      <td>Non homogenized powder</td>\n",
       "      <td>Direct contact</td>\n",
       "      <td>Heroin</td>\n",
       "      <td>19.881719</td>\n",
       "      <td>0.050358</td>\n",
       "      <td>0.044910</td>\n",
       "      <td>0.039148</td>\n",
       "      <td>0.033730</td>\n",
       "      <td>...</td>\n",
       "      <td>0.083369</td>\n",
       "      <td>0.090485</td>\n",
       "      <td>0.100462</td>\n",
       "      <td>0.109033</td>\n",
       "      <td>0.113411</td>\n",
       "      <td>0.117053</td>\n",
       "      <td>0.121665</td>\n",
       "      <td>0.128366</td>\n",
       "      <td>0.134636</td>\n",
       "      <td>0.136961</td>\n",
       "    </tr>\n",
       "    <tr>\n",
       "      <th>3</th>\n",
       "      <td>20.0163-P009</td>\n",
       "      <td>N1-00196</td>\n",
       "      <td>Unspecified</td>\n",
       "      <td>Direct contact</td>\n",
       "      <td>Heroin</td>\n",
       "      <td>52.500000</td>\n",
       "      <td>0.525050</td>\n",
       "      <td>0.520434</td>\n",
       "      <td>0.517187</td>\n",
       "      <td>0.516377</td>\n",
       "      <td>...</td>\n",
       "      <td>0.357223</td>\n",
       "      <td>0.370060</td>\n",
       "      <td>0.386062</td>\n",
       "      <td>0.404460</td>\n",
       "      <td>0.425567</td>\n",
       "      <td>0.450527</td>\n",
       "      <td>0.479066</td>\n",
       "      <td>0.508943</td>\n",
       "      <td>0.539349</td>\n",
       "      <td>0.564486</td>\n",
       "    </tr>\n",
       "    <tr>\n",
       "      <th>4</th>\n",
       "      <td>19.0286-P005</td>\n",
       "      <td>N1-00196</td>\n",
       "      <td>Unspecified</td>\n",
       "      <td>Direct contact</td>\n",
       "      <td>Heroin</td>\n",
       "      <td>48.900000</td>\n",
       "      <td>0.479365</td>\n",
       "      <td>0.467401</td>\n",
       "      <td>0.456680</td>\n",
       "      <td>0.446148</td>\n",
       "      <td>...</td>\n",
       "      <td>0.350973</td>\n",
       "      <td>0.366094</td>\n",
       "      <td>0.384536</td>\n",
       "      <td>0.405034</td>\n",
       "      <td>0.426582</td>\n",
       "      <td>0.450564</td>\n",
       "      <td>0.477045</td>\n",
       "      <td>0.504142</td>\n",
       "      <td>0.531764</td>\n",
       "      <td>0.553650</td>\n",
       "    </tr>\n",
       "  </tbody>\n",
       "</table>\n",
       "<p>5 rows × 131 columns</p>\n",
       "</div>"
      ],
      "text/plain": [
       "       sample_name device_serial  substance_form_display measure_type_display  \\\n",
       "0         11140009    M1-1000112      Homogenized Powder       Direct contact   \n",
       "1  22.0401-P002.02    M1-1000109  Non homogenized powder       Direct contact   \n",
       "2  22.0117-P001.02    M1-1000100  Non homogenized powder       Direct contact   \n",
       "3     20.0163-P009      N1-00196             Unspecified       Direct contact   \n",
       "4     19.0286-P005      N1-00196             Unspecified       Direct contact   \n",
       "\n",
       "  prod_substance     PURITY     908.1     914.3     920.5     926.7  ...  \\\n",
       "0         Heroin  58.500000  0.044734  0.042720  0.041361  0.040055  ...   \n",
       "1         Heroin  18.600000  0.063695  0.056980  0.050080  0.043339  ...   \n",
       "2         Heroin  19.881719  0.050358  0.044910  0.039148  0.033730  ...   \n",
       "3         Heroin  52.500000  0.525050  0.520434  0.517187  0.516377  ...   \n",
       "4         Heroin  48.900000  0.479365  0.467401  0.456680  0.446148  ...   \n",
       "\n",
       "     1620.5    1626.6    1632.8      1639    1645.2    1651.4    1657.6  \\\n",
       "0  0.003972  0.007906  0.012490  0.018123  0.025070  0.033235  0.042502   \n",
       "1  0.093002  0.099668  0.108805  0.117120  0.121947  0.125137  0.128688   \n",
       "2  0.083369  0.090485  0.100462  0.109033  0.113411  0.117053  0.121665   \n",
       "3  0.357223  0.370060  0.386062  0.404460  0.425567  0.450527  0.479066   \n",
       "4  0.350973  0.366094  0.384536  0.405034  0.426582  0.450564  0.477045   \n",
       "\n",
       "     1663.8      1670    1676.2  \n",
       "0  0.052237  0.061383  0.068823  \n",
       "1  0.133501  0.138187  0.140248  \n",
       "2  0.128366  0.134636  0.136961  \n",
       "3  0.508943  0.539349  0.564486  \n",
       "4  0.504142  0.531764  0.553650  \n",
       "\n",
       "[5 rows x 131 columns]"
      ]
     },
     "execution_count": 7,
     "metadata": {},
     "output_type": "execute_result"
    }
   ],
   "source": [
    "df_train.head()"
   ]
  },
  {
   "cell_type": "code",
   "execution_count": 8,
   "id": "618b851f-fdd2-4d8a-8d21-3b2235b83d51",
   "metadata": {
    "execution": {
     "iopub.execute_input": "2024-12-20T15:12:46.122297Z",
     "iopub.status.busy": "2024-12-20T15:12:46.122010Z",
     "iopub.status.idle": "2024-12-20T15:12:46.849883Z",
     "shell.execute_reply": "2024-12-20T15:12:46.847462Z",
     "shell.execute_reply.started": "2024-12-20T15:12:46.122271Z"
    }
   },
   "outputs": [
    {
     "data": {
      "image/png": "[encoded data removed]",
      "text/plain": [
       "<Figure size 1000x600 with 1 Axes>"
      ]
     },
     "metadata": {},
     "output_type": "display_data"
    }
   ],
   "source": [
    "#Purity frequency\n",
    "mean_rt = df_train['PURITY'].mean()\n",
    "std_rt = df_train['PURITY'].std()\n",
    "\n",
    "plt.figure(figsize=(10, 6)) \n",
    "sns.histplot(x='PURITY', kde=True, binwidth=5, data=df_train)\n",
    "\n",
    "# Add a vertical line for the mean\n",
    "plt.axvline(mean_rt, color='red', linestyle='dashed', linewidth=2, label=f'Mean: {mean_rt:.2f}')\n",
    "\n",
    "# Add vertical lines for one standard deviation above and below the mean\n",
    "plt.axvline(mean_rt + std_rt, color='yellow', linestyle='dashed', linewidth=2, label=f'+1 STD: {mean_rt + std_rt:.2f}')\n",
    "plt.axvline(mean_rt - std_rt, color='blue', linestyle='dashed', linewidth=2, label=f'-1 STD: {mean_rt - std_rt:.2f}')\n",
    "\n",
    "plt.title('Frequency of different purities')\n",
    "plt.xlabel('Purity')\n",
    "plt.ylabel('Frequency')\n",
    "plt.legend()\n",
    "plt.savefig(\"Graphs/frequency_of_PURITY\")"
   ]
  },
  {
   "cell_type": "markdown",
   "id": "0e307634-7b09-41b9-8af2-82cf149aa5dd",
   "metadata": {},
   "source": [
    "#### Skewness in purity values: \n",
    "Since the data is skewed, machine learning models may benefit from transformations (such as a log or square root transformation) to handle the skewness and improve model performance. Target Distribution: The concentration of data in the mid-range suggests that most cases involve moderate purity levels, with fewer samples representing very low or very high purity."
   ]
  },
  {
   "cell_type": "markdown",
   "id": "4baf53b6-fb7a-48f3-849d-c486be740163",
   "metadata": {},
   "source": [
    "### Comparasion by device used"
   ]
  },
  {
   "cell_type": "code",
   "execution_count": 9,
   "id": "2a10622c-263f-4fd1-b11d-3ffe13e67e01",
   "metadata": {
    "execution": {
     "iopub.execute_input": "2024-12-20T15:12:46.856723Z",
     "iopub.status.busy": "2024-12-20T15:12:46.854403Z",
     "iopub.status.idle": "2024-12-20T15:12:49.437515Z",
     "shell.execute_reply": "2024-12-20T15:12:49.434660Z",
     "shell.execute_reply.started": "2024-12-20T15:12:46.856550Z"
    }
   },
   "outputs": [
    {
     "data": {
      "image/png": "[encoded data removed]",
      "text/plain": [
       "<Figure size 1000x600 with 1 Axes>"
      ]
     },
     "metadata": {},
     "output_type": "display_data"
    },
    {
     "data": {
      "image/png": "[encoded data removed]",
      "text/plain": [
       "<Figure size 1000x1000 with 1 Axes>"
      ]
     },
     "metadata": {},
     "output_type": "display_data"
    }
   ],
   "source": [
    "#Frequency of value\n",
    "plt.figure(figsize=(10, 6)) \n",
    "ax = sns.histplot(x=\"device_serial\", kde=False, data=df_train)\n",
    "ax.patches[1].set_facecolor('red')\n",
    "ax.patches[2].set_facecolor('red')\n",
    "ax.patches[3].set_facecolor('red')\n",
    "ax.patches[7].set_facecolor('red')\n",
    "plt.title('Frequency of different device used in training set')\n",
    "plt.xlabel('Frequency')\n",
    "plt.ylabel('Device used')\n",
    "plt.xticks(rotation=75)\n",
    "plt.subplots_adjust(left=0.2, bottom=0.3, right=0.9, top=0.9)\n",
    "plt.savefig(\"Graphs/frenquency_of_device_used\")\n",
    "\n",
    "# Purity by device used\n",
    "plt.figure(figsize=(10, 10)) \n",
    "ax = sns.boxplot(x='PURITY', y=\"device_serial\", data=df_train)\n",
    "ax.patches[1].set_facecolor('red')\n",
    "ax.patches[2].set_facecolor('red')\n",
    "ax.patches[3].set_facecolor('red')\n",
    "ax.patches[7].set_facecolor('red')\n",
    "plt.title('Distribution of purity by device used')\n",
    "plt.xlabel('Purity')\n",
    "plt.ylabel(\"Device used\")\n",
    "plt.subplots_adjust(left=0.2, bottom=0.1, right=0.9, top=0.9)\n",
    "plt.savefig(\"Graphs/distribution_by_device_used\" )"
   ]
  },
  {
   "cell_type": "markdown",
   "id": "ad952edf-7843-445e-8801-95946f54f004",
   "metadata": {},
   "source": [
    "#### Most used device in training set : \n",
    "The first thing we see when looking a the frequency of the device used is that some of them are used greatly more than others, the four most used were highlighted in red.  \n",
    "When looking at the Distribution of Purity by device used we see that different device have different mean and deviation but there doesn't seem to be any outliers.  \n",
    "Another thing to note is that 3 of the most used device have a mean of about 20 for purity, lower than the mean of the test sample of 27.  "
   ]
  },
  {
   "cell_type": "code",
   "execution_count": 10,
   "id": "453fb658-1cef-443e-be80-d1163bd4d44e",
   "metadata": {
    "execution": {
     "iopub.execute_input": "2024-12-20T15:12:49.442745Z",
     "iopub.status.busy": "2024-12-20T15:12:49.441698Z",
     "iopub.status.idle": "2024-12-20T15:12:49.472863Z",
     "shell.execute_reply": "2024-12-20T15:12:49.470689Z",
     "shell.execute_reply.started": "2024-12-20T15:12:49.442658Z"
    }
   },
   "outputs": [
    {
     "name": "stdout",
     "output_type": "stream",
     "text": [
      "There are 104 entries for the M1-1000109 device. \n",
      "There are 227 entries for the M1-1000100 device. \n",
      "There are 407 entries for the N1-00196 device. \n",
      "There are 152 entries for the M1-1000130 device.\n",
      "The total of entries among these four device combined is 890 which is 68.46153846153847 percent of the total training set\n"
     ]
    }
   ],
   "source": [
    "#Four most used devices\n",
    "df_train_M1_1000109= df_train[df_train.device_serial == \"M1-1000109\"]\n",
    "df_train_M1_1000100 = df_train[df_train.device_serial == \"M1-1000100\"]\n",
    "df_train_N1_00196 = df_train[df_train.device_serial == \"N1-00196\"]\n",
    "df_train_M1_1000130 = df_train[df_train.device_serial == \"M1-1000130\"]\n",
    "df_train_four_combined = pd.concat([df_train_M1_1000109,df_train_M1_1000100,df_train_N1_00196,df_train_M1_1000130])\n",
    "\n",
    "print(\"There are {} entries for the M1-1000109 device. \\nThere are {} entries for the M1-1000100 device. \\nThere are {} entries for the N1-00196 device. \\nThere are {} entries for the M1-1000130 device.\".format(\n",
    "    len(df_train_M1_1000109),\n",
    "    len(df_train_M1_1000100),\n",
    "    len(df_train_N1_00196),\n",
    "    len(df_train_M1_1000130)))\n",
    "\n",
    "print(\"The total of entries among these four device combined is {} which is {} percent of the total training set\".format(\n",
    "    len(df_train_four_combined), len(df_train_four_combined)/len(df_train)*100\n",
    "))"
   ]
  },
  {
   "cell_type": "code",
   "execution_count": 11,
   "id": "885ecf93-1930-47bf-955b-842585d82409",
   "metadata": {
    "execution": {
     "iopub.execute_input": "2024-12-20T15:12:49.475385Z",
     "iopub.status.busy": "2024-12-20T15:12:49.474857Z",
     "iopub.status.idle": "2024-12-20T15:12:50.453512Z",
     "shell.execute_reply": "2024-12-20T15:12:50.450149Z",
     "shell.execute_reply.started": "2024-12-20T15:12:49.475333Z"
    }
   },
   "outputs": [
    {
     "data": {
      "image/png": "[encoded data removed]",
      "text/plain": [
       "<Figure size 1000x600 with 1 Axes>"
      ]
     },
     "metadata": {},
     "output_type": "display_data"
    }
   ],
   "source": [
    "#Frequency of value\n",
    "plt.figure(figsize=(10, 6)) \n",
    "ax = sns.histplot(x=\"device_serial\", kde=False, data=df_test)\n",
    "ax.patches[0].set_facecolor('red')\n",
    "ax.patches[2].set_facecolor('red')\n",
    "ax.patches[8].set_facecolor('red')\n",
    "ax.patches[12].set_facecolor('red')\n",
    "plt.title('Frequency of different device used in test set')\n",
    "plt.xlabel('Frequency')\n",
    "plt.ylabel('Device used')\n",
    "plt.xticks(rotation=75)\n",
    "plt.subplots_adjust(left=0.2, bottom=0.3, right=0.9, top=0.9)\n",
    "plt.savefig(\"Graphs/frenquency_of_device_used\")"
   ]
  },
  {
   "cell_type": "code",
   "execution_count": 12,
   "id": "84b741fe-92ee-4a6b-9b20-4dc8592a7e56",
   "metadata": {
    "execution": {
     "iopub.execute_input": "2024-12-20T15:12:50.458972Z",
     "iopub.status.busy": "2024-12-20T15:12:50.457325Z",
     "iopub.status.idle": "2024-12-20T15:12:50.492318Z",
     "shell.execute_reply": "2024-12-20T15:12:50.491138Z",
     "shell.execute_reply.started": "2024-12-20T15:12:50.458859Z"
    }
   },
   "outputs": [
    {
     "name": "stdout",
     "output_type": "stream",
     "text": [
      "There are 54 entries for the M1-1000109 device. \n",
      "There are 102 entries for the M1-1000100 device. \n",
      "There are 208 entries for the N1-00196 device. \n",
      "There are 42 entries for the M1-1000130 device.\n",
      "The total of entries among these four device combined is 406 which is 66.77631578947368 percent of the total test set\n"
     ]
    }
   ],
   "source": [
    "#Four most used devices in test set\n",
    "df_test_M1_1000109= df_test[df_test.device_serial == \"M1-1000109\"]\n",
    "df_test_M1_1000100 = df_test[df_test.device_serial == \"M1-1000100\"]\n",
    "df_test_N1_00196 = df_test[df_test.device_serial == \"N1-00196\"]\n",
    "df_test_M1_1000130 = df_test[df_test.device_serial == \"M1-1000130\"]\n",
    "df_test_four_combined = df_test_M1_1000109+df_test_M1_1000100+df_test_N1_00196+df_test_M1_1000130\n",
    "\n",
    "print(\"There are {} entries for the M1-1000109 device. \\nThere are {} entries for the M1-1000100 device. \\nThere are {} entries for the N1-00196 device. \\nThere are {} entries for the M1-1000130 device.\".format(\n",
    "    len(df_test_M1_1000109),\n",
    "    len(df_test_M1_1000100),\n",
    "    len(df_test_N1_00196),\n",
    "    len(df_test_M1_1000130)))\n",
    "\n",
    "print(\"The total of entries among these four device combined is {} which is {} percent of the total test set\".format(\n",
    "    len(df_test_four_combined), len(df_test_four_combined)/len(df_test)*100\n",
    "))"
   ]
  },
  {
   "cell_type": "markdown",
   "id": "5339e04a-0782-432d-b97b-c0fc431c4df1",
   "metadata": {},
   "source": [
    "#### Most used device in test set : \n",
    "It seems that the four most used devices in the training set are also the four most used devices in the test set, and their total percentage remains similar. If the device used brings a skew to the data we can expect a similar skew in the test set."
   ]
  },
  {
   "cell_type": "markdown",
   "id": "52a2758e-3b6a-4d6d-b832-d3caaece5b4f",
   "metadata": {},
   "source": [
    "### Other Columns"
   ]
  },
  {
   "cell_type": "code",
   "execution_count": 13,
   "id": "3d3f6bf6-f0ec-4727-b58a-944ba44e8e13",
   "metadata": {
    "execution": {
     "iopub.execute_input": "2024-12-20T15:12:50.493991Z",
     "iopub.status.busy": "2024-12-20T15:12:50.493689Z",
     "iopub.status.idle": "2024-12-20T15:12:50.552681Z",
     "shell.execute_reply": "2024-12-20T15:12:50.549943Z",
     "shell.execute_reply.started": "2024-12-20T15:12:50.493964Z"
    }
   },
   "outputs": [],
   "source": [
    "#Counting other variables\n",
    "count_train_substance_form_display = df_train.substance_form_display.value_counts().to_frame()\n",
    "count_train_measure_type_display = df_train.measure_type_display.value_counts().to_frame()\n",
    "count_train_prod_substance = df_train.prod_substance.value_counts().to_frame()\n",
    "count_test_substance_form_display = df_test.substance_form_display.value_counts().to_frame()\n",
    "count_test_measure_type_display = df_test.measure_type_display.value_counts().to_frame()\n",
    "count_test_prod_substance = df_test.prod_substance.value_counts().to_frame()"
   ]
  },
  {
   "cell_type": "code",
   "execution_count": 14,
   "id": "99a2b260-8bb1-4331-83af-e4bbd301ecce",
   "metadata": {
    "execution": {
     "iopub.execute_input": "2024-12-20T15:12:50.556145Z",
     "iopub.status.busy": "2024-12-20T15:12:50.555318Z",
     "iopub.status.idle": "2024-12-20T15:12:50.601558Z",
     "shell.execute_reply": "2024-12-20T15:12:50.600382Z",
     "shell.execute_reply.started": "2024-12-20T15:12:50.556092Z"
    }
   },
   "outputs": [
    {
     "data": {
      "text/html": [
       "<div>\n",
       "<style scoped>\n",
       "    .dataframe tbody tr th:only-of-type {\n",
       "        vertical-align: middle;\n",
       "    }\n",
       "\n",
       "    .dataframe tbody tr th {\n",
       "        vertical-align: top;\n",
       "    }\n",
       "\n",
       "    .dataframe thead th {\n",
       "        text-align: right;\n",
       "    }\n",
       "</style>\n",
       "<table border=\"1\" class=\"dataframe\">\n",
       "  <thead>\n",
       "    <tr style=\"text-align: right;\">\n",
       "      <th></th>\n",
       "      <th>count</th>\n",
       "    </tr>\n",
       "    <tr>\n",
       "      <th>prod_substance</th>\n",
       "      <th></th>\n",
       "    </tr>\n",
       "  </thead>\n",
       "  <tbody>\n",
       "    <tr>\n",
       "      <th>Heroin</th>\n",
       "      <td>1300</td>\n",
       "    </tr>\n",
       "  </tbody>\n",
       "</table>\n",
       "</div>"
      ],
      "text/plain": [
       "                count\n",
       "prod_substance       \n",
       "Heroin           1300"
      ]
     },
     "execution_count": 14,
     "metadata": {},
     "output_type": "execute_result"
    }
   ],
   "source": [
    "#Product substance in train set\n",
    "count_train_prod_substance.head()"
   ]
  },
  {
   "cell_type": "code",
   "execution_count": 15,
   "id": "0b3a9ba8-b094-4e42-950d-3db54f746c57",
   "metadata": {
    "execution": {
     "iopub.execute_input": "2024-12-20T15:12:50.603938Z",
     "iopub.status.busy": "2024-12-20T15:12:50.603294Z",
     "iopub.status.idle": "2024-12-20T15:12:50.646091Z",
     "shell.execute_reply": "2024-12-20T15:12:50.644465Z",
     "shell.execute_reply.started": "2024-12-20T15:12:50.603894Z"
    }
   },
   "outputs": [
    {
     "data": {
      "text/html": [
       "<div>\n",
       "<style scoped>\n",
       "    .dataframe tbody tr th:only-of-type {\n",
       "        vertical-align: middle;\n",
       "    }\n",
       "\n",
       "    .dataframe tbody tr th {\n",
       "        vertical-align: top;\n",
       "    }\n",
       "\n",
       "    .dataframe thead th {\n",
       "        text-align: right;\n",
       "    }\n",
       "</style>\n",
       "<table border=\"1\" class=\"dataframe\">\n",
       "  <thead>\n",
       "    <tr style=\"text-align: right;\">\n",
       "      <th></th>\n",
       "      <th>count</th>\n",
       "    </tr>\n",
       "    <tr>\n",
       "      <th>prod_substance</th>\n",
       "      <th></th>\n",
       "    </tr>\n",
       "  </thead>\n",
       "  <tbody>\n",
       "    <tr>\n",
       "      <th>Heroin</th>\n",
       "      <td>608</td>\n",
       "    </tr>\n",
       "  </tbody>\n",
       "</table>\n",
       "</div>"
      ],
      "text/plain": [
       "                count\n",
       "prod_substance       \n",
       "Heroin            608"
      ]
     },
     "execution_count": 15,
     "metadata": {},
     "output_type": "execute_result"
    }
   ],
   "source": [
    "#Product substance in test set\n",
    "count_test_prod_substance.head()"
   ]
  },
  {
   "cell_type": "markdown",
   "id": "9a98af11-e848-4a6a-858b-5df9166286b1",
   "metadata": {},
   "source": [
    "#### Product substance : \n",
    "We can see the the prod_substance column doesnt have any useful information, we can ignore this column."
   ]
  },
  {
   "cell_type": "code",
   "execution_count": 16,
   "id": "cf57a964-2b8d-4ae2-9830-bde2daea983c",
   "metadata": {
    "execution": {
     "iopub.execute_input": "2024-12-20T15:12:50.651408Z",
     "iopub.status.busy": "2024-12-20T15:12:50.650407Z",
     "iopub.status.idle": "2024-12-20T15:12:50.694659Z",
     "shell.execute_reply": "2024-12-20T15:12:50.692846Z",
     "shell.execute_reply.started": "2024-12-20T15:12:50.651331Z"
    }
   },
   "outputs": [
    {
     "data": {
      "text/html": [
       "<div>\n",
       "<style scoped>\n",
       "    .dataframe tbody tr th:only-of-type {\n",
       "        vertical-align: middle;\n",
       "    }\n",
       "\n",
       "    .dataframe tbody tr th {\n",
       "        vertical-align: top;\n",
       "    }\n",
       "\n",
       "    .dataframe thead th {\n",
       "        text-align: right;\n",
       "    }\n",
       "</style>\n",
       "<table border=\"1\" class=\"dataframe\">\n",
       "  <thead>\n",
       "    <tr style=\"text-align: right;\">\n",
       "      <th></th>\n",
       "      <th>count</th>\n",
       "    </tr>\n",
       "    <tr>\n",
       "      <th>measure_type_display</th>\n",
       "      <th></th>\n",
       "    </tr>\n",
       "  </thead>\n",
       "  <tbody>\n",
       "    <tr>\n",
       "      <th>Direct contact</th>\n",
       "      <td>1296</td>\n",
       "    </tr>\n",
       "    <tr>\n",
       "      <th>Transparent glass</th>\n",
       "      <td>4</td>\n",
       "    </tr>\n",
       "  </tbody>\n",
       "</table>\n",
       "</div>"
      ],
      "text/plain": [
       "                      count\n",
       "measure_type_display       \n",
       "Direct contact         1296\n",
       "Transparent glass         4"
      ]
     },
     "execution_count": 16,
     "metadata": {},
     "output_type": "execute_result"
    }
   ],
   "source": [
    "#Measure type in train set\n",
    "count_train_measure_type_display.head()"
   ]
  },
  {
   "cell_type": "code",
   "execution_count": 17,
   "id": "d771fa5f-9bb1-438a-a824-dd2af82cd28e",
   "metadata": {
    "execution": {
     "iopub.execute_input": "2024-12-20T15:12:50.698538Z",
     "iopub.status.busy": "2024-12-20T15:12:50.697249Z",
     "iopub.status.idle": "2024-12-20T15:12:50.748804Z",
     "shell.execute_reply": "2024-12-20T15:12:50.745366Z",
     "shell.execute_reply.started": "2024-12-20T15:12:50.698485Z"
    }
   },
   "outputs": [
    {
     "data": {
      "text/html": [
       "<div>\n",
       "<style scoped>\n",
       "    .dataframe tbody tr th:only-of-type {\n",
       "        vertical-align: middle;\n",
       "    }\n",
       "\n",
       "    .dataframe tbody tr th {\n",
       "        vertical-align: top;\n",
       "    }\n",
       "\n",
       "    .dataframe thead th {\n",
       "        text-align: right;\n",
       "    }\n",
       "</style>\n",
       "<table border=\"1\" class=\"dataframe\">\n",
       "  <thead>\n",
       "    <tr style=\"text-align: right;\">\n",
       "      <th></th>\n",
       "      <th>count</th>\n",
       "    </tr>\n",
       "    <tr>\n",
       "      <th>measure_type_display</th>\n",
       "      <th></th>\n",
       "    </tr>\n",
       "  </thead>\n",
       "  <tbody>\n",
       "    <tr>\n",
       "      <th>Direct contact</th>\n",
       "      <td>606</td>\n",
       "    </tr>\n",
       "    <tr>\n",
       "      <th>Transparent glass</th>\n",
       "      <td>2</td>\n",
       "    </tr>\n",
       "  </tbody>\n",
       "</table>\n",
       "</div>"
      ],
      "text/plain": [
       "                      count\n",
       "measure_type_display       \n",
       "Direct contact          606\n",
       "Transparent glass         2"
      ]
     },
     "execution_count": 17,
     "metadata": {},
     "output_type": "execute_result"
    }
   ],
   "source": [
    "#Measure type in test set\n",
    "count_test_measure_type_display.head()"
   ]
  },
  {
   "cell_type": "markdown",
   "id": "f87c6d03-b011-4d2b-a21b-c56533b8f7af",
   "metadata": {},
   "source": [
    "#### Measure type : \n",
    "The measure_type_display column is overwhelmingly composed of direct contact entries in both set. it will probably be best to start by ignoring this column too. "
   ]
  },
  {
   "cell_type": "code",
   "execution_count": 18,
   "id": "e7ac58b0-fa21-4d35-9ede-c63ed57fbee8",
   "metadata": {
    "execution": {
     "iopub.execute_input": "2024-12-20T15:12:50.753552Z",
     "iopub.status.busy": "2024-12-20T15:12:50.752389Z",
     "iopub.status.idle": "2024-12-20T15:12:50.797140Z",
     "shell.execute_reply": "2024-12-20T15:12:50.794656Z",
     "shell.execute_reply.started": "2024-12-20T15:12:50.753474Z"
    }
   },
   "outputs": [
    {
     "data": {
      "text/html": [
       "<div>\n",
       "<style scoped>\n",
       "    .dataframe tbody tr th:only-of-type {\n",
       "        vertical-align: middle;\n",
       "    }\n",
       "\n",
       "    .dataframe tbody tr th {\n",
       "        vertical-align: top;\n",
       "    }\n",
       "\n",
       "    .dataframe thead th {\n",
       "        text-align: right;\n",
       "    }\n",
       "</style>\n",
       "<table border=\"1\" class=\"dataframe\">\n",
       "  <thead>\n",
       "    <tr style=\"text-align: right;\">\n",
       "      <th></th>\n",
       "      <th>count</th>\n",
       "    </tr>\n",
       "    <tr>\n",
       "      <th>substance_form_display</th>\n",
       "      <th></th>\n",
       "    </tr>\n",
       "  </thead>\n",
       "  <tbody>\n",
       "    <tr>\n",
       "      <th>Homogenized Powder</th>\n",
       "      <td>627</td>\n",
       "    </tr>\n",
       "    <tr>\n",
       "      <th>Unspecified</th>\n",
       "      <td>459</td>\n",
       "    </tr>\n",
       "    <tr>\n",
       "      <th>Non homogenized powder</th>\n",
       "      <td>214</td>\n",
       "    </tr>\n",
       "  </tbody>\n",
       "</table>\n",
       "</div>"
      ],
      "text/plain": [
       "                        count\n",
       "substance_form_display       \n",
       "Homogenized Powder        627\n",
       "Unspecified               459\n",
       "Non homogenized powder    214"
      ]
     },
     "execution_count": 18,
     "metadata": {},
     "output_type": "execute_result"
    }
   ],
   "source": [
    "#Substance form in train set\n",
    "count_train_substance_form_display.head()"
   ]
  },
  {
   "cell_type": "code",
   "execution_count": 19,
   "id": "92d28642-b61b-4a66-af2a-5f248145f23b",
   "metadata": {
    "execution": {
     "iopub.execute_input": "2024-12-20T15:12:50.800683Z",
     "iopub.status.busy": "2024-12-20T15:12:50.799349Z",
     "iopub.status.idle": "2024-12-20T15:12:50.847023Z",
     "shell.execute_reply": "2024-12-20T15:12:50.843923Z",
     "shell.execute_reply.started": "2024-12-20T15:12:50.800614Z"
    }
   },
   "outputs": [
    {
     "data": {
      "text/html": [
       "<div>\n",
       "<style scoped>\n",
       "    .dataframe tbody tr th:only-of-type {\n",
       "        vertical-align: middle;\n",
       "    }\n",
       "\n",
       "    .dataframe tbody tr th {\n",
       "        vertical-align: top;\n",
       "    }\n",
       "\n",
       "    .dataframe thead th {\n",
       "        text-align: right;\n",
       "    }\n",
       "</style>\n",
       "<table border=\"1\" class=\"dataframe\">\n",
       "  <thead>\n",
       "    <tr style=\"text-align: right;\">\n",
       "      <th></th>\n",
       "      <th>count</th>\n",
       "    </tr>\n",
       "    <tr>\n",
       "      <th>substance_form_display</th>\n",
       "      <th></th>\n",
       "    </tr>\n",
       "  </thead>\n",
       "  <tbody>\n",
       "    <tr>\n",
       "      <th>Homogenized Powder</th>\n",
       "      <td>291</td>\n",
       "    </tr>\n",
       "    <tr>\n",
       "      <th>Unspecified</th>\n",
       "      <td>227</td>\n",
       "    </tr>\n",
       "    <tr>\n",
       "      <th>Non homogenized powder</th>\n",
       "      <td>89</td>\n",
       "    </tr>\n",
       "    <tr>\n",
       "      <th>Brick</th>\n",
       "      <td>1</td>\n",
       "    </tr>\n",
       "  </tbody>\n",
       "</table>\n",
       "</div>"
      ],
      "text/plain": [
       "                        count\n",
       "substance_form_display       \n",
       "Homogenized Powder        291\n",
       "Unspecified               227\n",
       "Non homogenized powder     89\n",
       "Brick                       1"
      ]
     },
     "execution_count": 19,
     "metadata": {},
     "output_type": "execute_result"
    }
   ],
   "source": [
    "#Substance form in test set\n",
    "count_test_substance_form_display.head()"
   ]
  },
  {
   "cell_type": "markdown",
   "id": "d4b5b451-7564-42ce-b6d3-1c54ebebfc34",
   "metadata": {},
   "source": [
    "#### Substance form : \n",
    "This column is more tricky, in our training set the heroin is tested in two forms : homogenized powder and non homogenized powder. We don't know the form for a substanstiable amout of entries. We could try to use this entry has a categorical variable, but we have to think about how to treat the unspecified value.\n",
    "We could try to use it has a third category for now. \n",
    "\n",
    "For the Brick entry in the test set we have no value for it in the training set, so if we do decide to use a categorical variable for this entry the simplest solution for it would be to compute it as an unspecified value. "
   ]
  },
  {
   "cell_type": "markdown",
   "id": "3214000b-24db-480a-94a7-8d2325a3eddb",
   "metadata": {},
   "source": [
    "## 2. Preprocessing\n",
    "\n",
    "For preprocessing, we remove the unused columns and filter the spectrum with random forest keeping only the ones with an importance greater than a threshold. The threshold was obtained by trial and error. "
   ]
  },
  {
   "cell_type": "code",
   "execution_count": 6,
   "id": "1bd0ae81-2e98-44e7-9fbc-9efe38a5d2bd",
   "metadata": {
    "execution": {
     "iopub.execute_input": "2024-12-20T16:00:22.243442Z",
     "iopub.status.busy": "2024-12-20T16:00:22.242946Z",
     "iopub.status.idle": "2024-12-20T16:00:22.440626Z",
     "shell.execute_reply": "2024-12-20T16:00:22.435874Z",
     "shell.execute_reply.started": "2024-12-20T16:00:22.243400Z"
    }
   },
   "outputs": [],
   "source": [
    "def rand_forest(df_train, thresh):\n",
    "    #Select variables with importance > thresh\n",
    "    \n",
    "    X = df_train.iloc[:, 6:]\n",
    "    y = df_train[['PURITY']].squeeze()\n",
    "\n",
    "    rf = RandomForestRegressor(n_estimators=100, random_state=seed) \n",
    "    rf.fit(X, y)\n",
    "\n",
    "    sfm = SelectFromModel(rf, threshold=thresh)\n",
    "\n",
    "    variables_indices = ~sfm.get_support()\n",
    "\n",
    "    removed_columns_names = X.columns[variables_indices]\n",
    "   \n",
    "    return removed_columns_names"
   ]
  },
  {
   "cell_type": "code",
   "execution_count": 7,
   "id": "44302520-fb1d-4673-b34c-f7ac474cf0ca",
   "metadata": {
    "execution": {
     "iopub.execute_input": "2024-12-20T16:00:23.546646Z",
     "iopub.status.busy": "2024-12-20T16:00:23.541466Z",
     "iopub.status.idle": "2024-12-20T16:00:23.647977Z",
     "shell.execute_reply": "2024-12-20T16:00:23.645541Z",
     "shell.execute_reply.started": "2024-12-20T16:00:23.546543Z"
    }
   },
   "outputs": [],
   "source": [
    "def preprocessing(df_train, df_test, unwanted, thresh):\n",
    "\n",
    "    #we use random forest to remove unwanted spectrum\n",
    "    removed_columns_names = rand_forest(df_train, thresh)\n",
    "    \n",
    "    df_train = df_train.drop(columns=removed_columns_names)\n",
    "    df_test = df_test.drop(columns=removed_columns_names)\n",
    "    \n",
    "    #remove unwwanted columns\n",
    "    df_train = df_train.drop(unwanted, axis=1)\n",
    "    df_test = df_test.drop(unwanted, axis=1)\n",
    "\n",
    "    return df_train, df_test  "
   ]
  },
  {
   "cell_type": "code",
   "execution_count": 8,
   "id": "ce03ce8c-49b4-4441-9e31-f1a7d90ffc16",
   "metadata": {
    "execution": {
     "iopub.execute_input": "2024-12-20T16:00:25.351388Z",
     "iopub.status.busy": "2024-12-20T16:00:25.343281Z",
     "iopub.status.idle": "2024-12-20T16:04:24.836214Z",
     "shell.execute_reply": "2024-12-20T16:04:24.743733Z",
     "shell.execute_reply.started": "2024-12-20T16:00:25.351294Z"
    }
   },
   "outputs": [],
   "source": [
    "tresh = 0.03792690190732246\n",
    "unwanted = [\"prod_substance\", \"measure_type_display\", \"substance_form_display\", \"sample_name\", \"device_serial\"]\n",
    "df_preprocess_train, df_preprocess_test = preprocessing(df_train, df_test, unwanted, tresh) "
   ]
  },
  {
   "cell_type": "code",
   "execution_count": 9,
   "id": "2393595d-3e32-46df-96a4-377405591bb1",
   "metadata": {
    "execution": {
     "iopub.execute_input": "2024-12-20T16:05:09.342183Z",
     "iopub.status.busy": "2024-12-20T16:05:09.338189Z",
     "iopub.status.idle": "2024-12-20T16:05:09.454662Z",
     "shell.execute_reply": "2024-12-20T16:05:09.450706Z",
     "shell.execute_reply.started": "2024-12-20T16:05:09.342106Z"
    }
   },
   "outputs": [
    {
     "data": {
      "text/plain": [
       "Index(['PURITY', '963.8', '1205.4', '1601.9', '1608.1', '1626.6', '1632.8'], dtype='object')"
      ]
     },
     "execution_count": 9,
     "metadata": {},
     "output_type": "execute_result"
    }
   ],
   "source": [
    "df_preprocess_train.columns"
   ]
  },
  {
   "cell_type": "markdown",
   "id": "90a3a58e-32e5-4927-866a-e38eaa62cd78",
   "metadata": {},
   "source": [
    "### Neural Network Preprocessing"
   ]
  },
  {
   "cell_type": "code",
   "execution_count": null,
   "id": "0bb24ea2-d703-4a44-b096-0fc3be80fa5d",
   "metadata": {},
   "outputs": [],
   "source": [
    "# since neural network work better with bigger amount of data m we try to set the threshhold for getting important feature as lows as possible so we get high proportion of features.\n",
    "df_preprocess_train, df_preprocess_test = preprocessing(df_train, df_test, unwanted, thresh = 0.0001) \n",
    "\n",
    "X = df_preprocess_train.iloc[:, 1:]\n",
    "y = df_preprocess_train['PURITY']"
   ]
  },
  {
   "cell_type": "code",
   "execution_count": null,
   "id": "7bdf8e00-54d9-41de-a135-52214498bcaf",
   "metadata": {},
   "outputs": [],
   "source": [
    "# preprocess for traing data - applying the savgol_filter  on data \n",
    "\n",
    "spectrum_filtered = pd.DataFrame(savgol_filter(X, 7, 3, deriv = 2, axis = 1))\n",
    "spectrum_filtered_standardized = zscore(spectrum_filtered, axis = 1)\n",
    "X = spectrum_filtered_standardized.copy()\n",
    "\n",
    "X_tensor = torch.tensor(X.values, dtype=torch.float32)\n",
    "y_tensor = torch.tensor(y , dtype=torch.float32).reshape(-1, 1)\n",
    "\n",
    "# preprocess spectrum for test data \n",
    "\n",
    "test = pd.DataFrame(savgol_filter(df_preprocess_test, 7, 3, deriv = 2, axis = 1))\n",
    "test = zscore(test, axis = 1)\n",
    "\n",
    "\n",
    "X_tensor = torch.tensor(X.values, dtype=torch.float32)\n",
    "test = torch.tensor(test.values, dtype=torch.float32)"
   ]
  },
  {
   "cell_type": "markdown",
   "id": "2bd803a4-eba7-46f7-82dd-80824cea4436",
   "metadata": {},
   "source": [
    "## 3. Linear Model\n",
    "\n",
    "### Bridge and Lasso\n",
    "\n",
    "For the Linear methods part, we performed a Bayes Ridge and a Lasso regression. For both methods we coded a generic Bayesian Optimization Function which purpose is to automate hyper parameter tuning process using Bayesian Optimisation while performin a cross-validation on the model using cross_val_score and returning the mean score. We see that the Byes Ridge model performs better than the Lasso"
   ]
  },
  {
   "cell_type": "code",
   "execution_count": 11,
   "id": "a02f7b2f-d378-4c7b-9921-b7b866fb42c8",
   "metadata": {
    "execution": {
     "iopub.execute_input": "2024-12-20T16:05:36.941494Z",
     "iopub.status.busy": "2024-12-20T16:05:36.940737Z",
     "iopub.status.idle": "2024-12-20T16:05:37.144129Z",
     "shell.execute_reply": "2024-12-20T16:05:37.141022Z",
     "shell.execute_reply.started": "2024-12-20T16:05:36.941425Z"
    }
   },
   "outputs": [],
   "source": [
    "X = df_preprocess_train.iloc[:, 1:]\n",
    "y = df_preprocess_train['PURITY']\n",
    "\n",
    "#Split the train set \n",
    "X_train, X_test, y_train, y_test = train_test_split(X, y, test_size=0.2, random_state=seed)\n",
    "\n",
    "# Define a custom RMSE scorer\n",
    "def rmse(y_true, y_pred):\n",
    "    \"\"\"Calculates the Root Mean Squared Error (RMSE).\"\"\"\n",
    "    return ((y_true - y_pred) ** 2).mean() ** 0.5"
   ]
  },
  {
   "cell_type": "code",
   "execution_count": 25,
   "id": "33827a8b-c509-4909-b27b-8851046dff87",
   "metadata": {
    "execution": {
     "iopub.execute_input": "2024-12-20T15:13:09.538388Z",
     "iopub.status.busy": "2024-12-20T15:13:09.537151Z",
     "iopub.status.idle": "2024-12-20T15:13:09.575105Z",
     "shell.execute_reply": "2024-12-20T15:13:09.572434Z",
     "shell.execute_reply.started": "2024-12-20T15:13:09.538304Z"
    }
   },
   "outputs": [],
   "source": [
    "def optimize_model(model_class, param_bounds, model_params, cv_params):\n",
    "    \"\"\"\n",
    "    Optimizes hyperparameters for a given model using Bayesian Optimization.\n",
    "    \n",
    "    Parameters:\n",
    "    - model_class: The class of the model (e.g., BayesianRidge).\n",
    "    - param_bounds: Dictionary specifying the hyperparameter search space.\n",
    "    - model_params: Fixed parameters for the model.\n",
    "    - cv_params: Parameters for cross-validation (e.g., X, y, cv).\n",
    "    \n",
    "    Returns:\n",
    "    - Best parameters found during optimization.\n",
    "    \"\"\"\n",
    "    def cv_score(**params):\n",
    "        \"\"\"Performs cross-validation and returns the mean score.\"\"\"\n",
    "        # Initialize the model with fixed and optimized parameters\n",
    "        model = model_class(**{**model_params, **params})\n",
    "        # Perform cross-validation\n",
    "        cv_score = cross_val_score(model, **cv_params)\n",
    "        return np.mean(cv_score)\n",
    "\n",
    "    # Initialize Bayesian optimizer\n",
    "    optimizer = BayesianOptimization(f=cv_score, pbounds=param_bounds, random_state=42)\n",
    "    optimizer.maximize(init_points=10, n_iter=30)  # Run optimization\n",
    "    return optimizer.max['params']  # Return best parameters\n",
    "\n",
    "\n",
    "# Cross-validation parameters\n",
    "cv_params = {\n",
    "    'X': X_train,  # Training features\n",
    "    'y': y_train,  # Training labels\n",
    "    'cv': 5,       # 5-fold cross-validation\n",
    "    'scoring': 'neg_mean_squared_error'  # Scoring metric\n",
    "}"
   ]
  },
  {
   "cell_type": "code",
   "execution_count": 26,
   "id": "f4463ba3-f470-4a01-8592-2723aa12152f",
   "metadata": {
    "execution": {
     "iopub.execute_input": "2024-12-20T15:13:09.582369Z",
     "iopub.status.busy": "2024-12-20T15:13:09.578984Z",
     "iopub.status.idle": "2024-12-20T15:14:59.737644Z",
     "shell.execute_reply": "2024-12-20T15:14:59.734014Z",
     "shell.execute_reply.started": "2024-12-20T15:13:09.582242Z"
    }
   },
   "outputs": [
    {
     "name": "stdout",
     "output_type": "stream",
     "text": [
      "|   iter    |  target   |  alpha_1  |  alpha_2  | lambda_1  | lambda_2  |\n",
      "-------------------------------------------------------------------------\n",
      "| \u001b[39m1        \u001b[39m | \u001b[39m-79.78   \u001b[39m | \u001b[39m0.0003745\u001b[39m | \u001b[39m0.0009507\u001b[39m | \u001b[39m0.000732 \u001b[39m | \u001b[39m0.0005987\u001b[39m |\n",
      "| \u001b[35m2        \u001b[39m | \u001b[35m-79.78   \u001b[39m | \u001b[35m0.000156 \u001b[39m | \u001b[35m0.000156 \u001b[39m | \u001b[35m5.808e-05\u001b[39m | \u001b[35m0.0008662\u001b[39m |\n",
      "| \u001b[35m3        \u001b[39m | \u001b[35m-79.78   \u001b[39m | \u001b[35m0.0006011\u001b[39m | \u001b[35m0.0007081\u001b[39m | \u001b[35m2.058e-05\u001b[39m | \u001b[35m0.0009699\u001b[39m |\n",
      "| \u001b[39m4        \u001b[39m | \u001b[39m-79.78   \u001b[39m | \u001b[39m0.0008324\u001b[39m | \u001b[39m0.0002123\u001b[39m | \u001b[39m0.0001818\u001b[39m | \u001b[39m0.0001834\u001b[39m |\n"
     ]
    },
    {
     "name": "stderr",
     "output_type": "stream",
     "text": [
      "/home/.local/lib/python3.12/site-packages/bayes_opt/target_space.py:344: UserWarning: You're attempting to register an np.ndarray. Currently, the optimizer internally sorts parameters by key and expects any registered array to respect this order. In future versions this behaviour will change and the order as given by the pbounds dictionary will be used. If you wish to retain sorted parameters, please manually sort your pbounds dictionary before constructing the optimizer.\n",
      "  warn(msg, stacklevel=1)\n"
     ]
    },
    {
     "name": "stdout",
     "output_type": "stream",
     "text": [
      "| \u001b[39m5        \u001b[39m | \u001b[39m-79.78   \u001b[39m | \u001b[39m0.0003042\u001b[39m | \u001b[39m0.0005248\u001b[39m | \u001b[39m0.0004319\u001b[39m | \u001b[39m0.0002912\u001b[39m |\n",
      "| \u001b[39m6        \u001b[39m | \u001b[39m-79.78   \u001b[39m | \u001b[39m0.0006119\u001b[39m | \u001b[39m0.0001395\u001b[39m | \u001b[39m0.0002921\u001b[39m | \u001b[39m0.0003664\u001b[39m |\n",
      "| \u001b[39m7        \u001b[39m | \u001b[39m-79.78   \u001b[39m | \u001b[39m0.0004561\u001b[39m | \u001b[39m0.0007852\u001b[39m | \u001b[39m0.0001997\u001b[39m | \u001b[39m0.0005142\u001b[39m |\n",
      "| \u001b[39m8        \u001b[39m | \u001b[39m-79.78   \u001b[39m | \u001b[39m0.0005924\u001b[39m | \u001b[39m4.645e-05\u001b[39m | \u001b[39m0.0006075\u001b[39m | \u001b[39m0.0001705\u001b[39m |\n",
      "| \u001b[39m9        \u001b[39m | \u001b[39m-79.78   \u001b[39m | \u001b[39m6.505e-05\u001b[39m | \u001b[39m0.0009489\u001b[39m | \u001b[39m0.0009656\u001b[39m | \u001b[39m0.0008084\u001b[39m |\n",
      "| \u001b[39m10       \u001b[39m | \u001b[39m-79.78   \u001b[39m | \u001b[39m0.0003046\u001b[39m | \u001b[39m9.767e-05\u001b[39m | \u001b[39m0.0006842\u001b[39m | \u001b[39m0.0004402\u001b[39m |\n",
      "| \u001b[35m11       \u001b[39m | \u001b[35m-79.78   \u001b[39m | \u001b[35m0.0009955\u001b[39m | \u001b[35m0.0001189\u001b[39m | \u001b[35m1.495e-05\u001b[39m | \u001b[35m0.00089  \u001b[39m |\n",
      "| \u001b[35m12       \u001b[39m | \u001b[35m-79.78   \u001b[39m | \u001b[35m0.0009918\u001b[39m | \u001b[35m0.0001086\u001b[39m | \u001b[35m1.002e-05\u001b[39m | \u001b[35m0.0008708\u001b[39m |\n",
      "| \u001b[35m13       \u001b[39m | \u001b[35m-79.78   \u001b[39m | \u001b[35m0.0009879\u001b[39m | \u001b[35m0.0008514\u001b[39m | \u001b[35m5.214e-06\u001b[39m | \u001b[35m0.0005752\u001b[39m |\n",
      "| \u001b[39m14       \u001b[39m | \u001b[39m-79.78   \u001b[39m | \u001b[39m2.248e-05\u001b[39m | \u001b[39m5.575e-05\u001b[39m | \u001b[39m9.802e-07\u001b[39m | \u001b[39m3.23e-05 \u001b[39m |\n",
      "| \u001b[39m15       \u001b[39m | \u001b[39m-79.78   \u001b[39m | \u001b[39m3.486e-05\u001b[39m | \u001b[39m0.0009322\u001b[39m | \u001b[39m9.149e-07\u001b[39m | \u001b[39m8.179e-06\u001b[39m |\n",
      "| \u001b[35m16       \u001b[39m | \u001b[35m-79.78   \u001b[39m | \u001b[35m0.0008469\u001b[39m | \u001b[35m0.0009022\u001b[39m | \u001b[35m1.057e-06\u001b[39m | \u001b[35m7.37e-05 \u001b[39m |\n",
      "| \u001b[39m17       \u001b[39m | \u001b[39m-79.78   \u001b[39m | \u001b[39m0.0005598\u001b[39m | \u001b[39m0.0004018\u001b[39m | \u001b[39m1.65e-07 \u001b[39m | \u001b[39m0.0005588\u001b[39m |\n",
      "| \u001b[39m18       \u001b[39m | \u001b[39m-79.78   \u001b[39m | \u001b[39m2.085e-05\u001b[39m | \u001b[39m0.0007637\u001b[39m | \u001b[39m3.842e-07\u001b[39m | \u001b[39m0.0009998\u001b[39m |\n",
      "| \u001b[39m19       \u001b[39m | \u001b[39m-79.78   \u001b[39m | \u001b[39m9.569e-06\u001b[39m | \u001b[39m0.0005474\u001b[39m | \u001b[39m1.353e-05\u001b[39m | \u001b[39m0.0004211\u001b[39m |\n",
      "| \u001b[39m20       \u001b[39m | \u001b[39m-79.78   \u001b[39m | \u001b[39m0.0004415\u001b[39m | \u001b[39m0.0004867\u001b[39m | \u001b[39m1.093e-05\u001b[39m | \u001b[39m3.249e-06\u001b[39m |\n",
      "| \u001b[39m21       \u001b[39m | \u001b[39m-79.78   \u001b[39m | \u001b[39m1e-10    \u001b[39m | \u001b[39m1e-10    \u001b[39m | \u001b[39m1e-10    \u001b[39m | \u001b[39m0.001    \u001b[39m |\n",
      "| \u001b[39m22       \u001b[39m | \u001b[39m-79.78   \u001b[39m | \u001b[39m0.0008058\u001b[39m | \u001b[39m0.0009767\u001b[39m | \u001b[39m1.008e-05\u001b[39m | \u001b[39m0.0009714\u001b[39m |\n",
      "| \u001b[39m23       \u001b[39m | \u001b[39m-79.78   \u001b[39m | \u001b[39m0.0003416\u001b[39m | \u001b[39m9e-07    \u001b[39m | \u001b[39m2.239e-06\u001b[39m | \u001b[39m0.0004618\u001b[39m |\n",
      "| \u001b[39m24       \u001b[39m | \u001b[39m-79.78   \u001b[39m | \u001b[39m0.0003826\u001b[39m | \u001b[39m0.0009807\u001b[39m | \u001b[39m2.58e-06 \u001b[39m | \u001b[39m0.0002108\u001b[39m |\n",
      "| \u001b[39m25       \u001b[39m | \u001b[39m-79.78   \u001b[39m | \u001b[39m0.0009796\u001b[39m | \u001b[39m0.0005951\u001b[39m | \u001b[39m3.456e-06\u001b[39m | \u001b[39m0.0008901\u001b[39m |\n",
      "| \u001b[39m26       \u001b[39m | \u001b[39m-79.78   \u001b[39m | \u001b[39m0.0004946\u001b[39m | \u001b[39m1.623e-05\u001b[39m | \u001b[39m2.282e-08\u001b[39m | \u001b[39m0.0008004\u001b[39m |\n",
      "| \u001b[39m27       \u001b[39m | \u001b[39m-79.78   \u001b[39m | \u001b[39m5.512e-05\u001b[39m | \u001b[39m0.0009621\u001b[39m | \u001b[39m7.202e-07\u001b[39m | \u001b[39m0.0008276\u001b[39m |\n",
      "| \u001b[39m28       \u001b[39m | \u001b[39m-79.78   \u001b[39m | \u001b[39m0.0009972\u001b[39m | \u001b[39m0.0001829\u001b[39m | \u001b[39m2.652e-06\u001b[39m | \u001b[39m0.0005189\u001b[39m |\n",
      "| \u001b[39m29       \u001b[39m | \u001b[39m-79.78   \u001b[39m | \u001b[39m0.0008039\u001b[39m | \u001b[39m0.0006924\u001b[39m | \u001b[39m2.06e-06 \u001b[39m | \u001b[39m0.0001657\u001b[39m |\n",
      "| \u001b[39m30       \u001b[39m | \u001b[39m-79.78   \u001b[39m | \u001b[39m0.0006253\u001b[39m | \u001b[39m0.0009954\u001b[39m | \u001b[39m9.91e-08 \u001b[39m | \u001b[39m1.644e-05\u001b[39m |\n",
      "| \u001b[39m31       \u001b[39m | \u001b[39m-79.78   \u001b[39m | \u001b[39m3.35e-05 \u001b[39m | \u001b[39m4.859e-05\u001b[39m | \u001b[39m3.845e-07\u001b[39m | \u001b[39m0.0004266\u001b[39m |\n",
      "| \u001b[39m32       \u001b[39m | \u001b[39m-79.78   \u001b[39m | \u001b[39m0.0002747\u001b[39m | \u001b[39m0.0008917\u001b[39m | \u001b[39m4.987e-07\u001b[39m | \u001b[39m0.0009602\u001b[39m |\n",
      "| \u001b[35m33       \u001b[39m | \u001b[35m-79.78   \u001b[39m | \u001b[35m0.001    \u001b[39m | \u001b[35m1e-10    \u001b[39m | \u001b[35m1e-10    \u001b[39m | \u001b[35m0.001    \u001b[39m |\n",
      "| \u001b[39m34       \u001b[39m | \u001b[39m-79.78   \u001b[39m | \u001b[39m0.0008975\u001b[39m | \u001b[39m0.0002467\u001b[39m | \u001b[39m2.642e-09\u001b[39m | \u001b[39m3.317e-05\u001b[39m |\n",
      "| \u001b[39m35       \u001b[39m | \u001b[39m-79.78   \u001b[39m | \u001b[39m0.0007988\u001b[39m | \u001b[39m0.0008271\u001b[39m | \u001b[39m1.895e-07\u001b[39m | \u001b[39m0.0006541\u001b[39m |\n",
      "| \u001b[39m36       \u001b[39m | \u001b[39m-79.78   \u001b[39m | \u001b[39m0.0006868\u001b[39m | \u001b[39m4.078e-05\u001b[39m | \u001b[39m1.019e-06\u001b[39m | \u001b[39m0.0003982\u001b[39m |\n",
      "| \u001b[39m37       \u001b[39m | \u001b[39m-79.78   \u001b[39m | \u001b[39m0.000784 \u001b[39m | \u001b[39m6.497e-06\u001b[39m | \u001b[39m1.336e-06\u001b[39m | \u001b[39m0.0009983\u001b[39m |\n",
      "| \u001b[39m38       \u001b[39m | \u001b[39m-79.78   \u001b[39m | \u001b[39m0.0009877\u001b[39m | \u001b[39m0.0004284\u001b[39m | \u001b[39m9.595e-07\u001b[39m | \u001b[39m0.0005161\u001b[39m |\n",
      "| \u001b[39m39       \u001b[39m | \u001b[39m-79.78   \u001b[39m | \u001b[39m0.0009608\u001b[39m | \u001b[39m0.0006099\u001b[39m | \u001b[39m5.397e-06\u001b[39m | \u001b[39m4.351e-05\u001b[39m |\n",
      "| \u001b[39m40       \u001b[39m | \u001b[39m-79.78   \u001b[39m | \u001b[39m0.0009926\u001b[39m | \u001b[39m2.538e-05\u001b[39m | \u001b[39m6.503e-08\u001b[39m | \u001b[39m0.0005973\u001b[39m |\n",
      "=========================================================================\n",
      "Best parameters for Bayesian Ridge:  {'alpha_1': 0.001, 'alpha_2': 1e-10, 'lambda_1': 1e-10, 'lambda_2': 0.001}\n",
      "[8.43387204 9.01505302 9.21628558 8.84329278 9.13080797]\n"
     ]
    }
   ],
   "source": [
    "# Define hyperparameter bounds for Bayesian Ridge\n",
    "params_bayesian_ridge = {\n",
    "    'alpha_1': (1e-10, 1e-3),\n",
    "    'alpha_2': (1e-10, 1e-3),\n",
    "    'lambda_1': (1e-10, 1e-3),\n",
    "    'lambda_2': (1e-10, 1e-3)\n",
    "}\n",
    "# Perform Bayesian Optimization for Bayesian Ridge\n",
    "best_params_bayesian_ridge = optimize_model(BayesianRidge, params_bayesian_ridge, {}, cv_params)\n",
    "print(\"Best parameters for Bayesian Ridge: \", best_params_bayesian_ridge)\n",
    "\n",
    "model_bayesian_ridge = BayesianRidge(**best_params_bayesian_ridge)\n",
    "model_bayesian_ridge.fit(X_train, y_train)\n",
    "bayes_ridge_score = cross_val_score(model_bayesian_ridge, X_train, y_train, scoring=make_scorer(rmse), cv=5)\n",
    "print(bayes_ridge_score)\n"
   ]
  },
  {
   "cell_type": "code",
   "execution_count": 27,
   "id": "76828421-0c36-4825-b3ed-126bbe6c2b14",
   "metadata": {
    "execution": {
     "iopub.execute_input": "2024-12-20T15:14:59.741464Z",
     "iopub.status.busy": "2024-12-20T15:14:59.740833Z",
     "iopub.status.idle": "2024-12-20T15:15:45.132612Z",
     "shell.execute_reply": "2024-12-20T15:15:45.131775Z",
     "shell.execute_reply.started": "2024-12-20T15:14:59.741407Z"
    }
   },
   "outputs": [
    {
     "name": "stdout",
     "output_type": "stream",
     "text": [
      "|   iter    |  target   |   alpha   |\n",
      "-------------------------------------\n",
      "| \u001b[39m1        \u001b[39m | \u001b[39m-108.0   \u001b[39m | \u001b[39m0.03752  \u001b[39m |\n",
      "| \u001b[39m2        \u001b[39m | \u001b[39m-112.1   \u001b[39m | \u001b[39m0.09508  \u001b[39m |\n",
      "| \u001b[39m3        \u001b[39m | \u001b[39m-110.1   \u001b[39m | \u001b[39m0.07323  \u001b[39m |\n",
      "| \u001b[39m4        \u001b[39m | \u001b[39m-109.2   \u001b[39m | \u001b[39m0.05991  \u001b[39m |\n"
     ]
    },
    {
     "name": "stderr",
     "output_type": "stream",
     "text": [
      "/home/.local/lib/python3.12/site-packages/bayes_opt/target_space.py:344: UserWarning: You're attempting to register an np.ndarray. Currently, the optimizer internally sorts parameters by key and expects any registered array to respect this order. In future versions this behaviour will change and the order as given by the pbounds dictionary will be used. If you wish to retain sorted parameters, please manually sort your pbounds dictionary before constructing the optimizer.\n",
      "  warn(msg, stacklevel=1)\n"
     ]
    },
    {
     "name": "stdout",
     "output_type": "stream",
     "text": [
      "| \u001b[35m5        \u001b[39m | \u001b[35m-95.82   \u001b[39m | \u001b[35m0.01569  \u001b[39m |\n",
      "| \u001b[35m6        \u001b[39m | \u001b[35m-95.82   \u001b[39m | \u001b[35m0.01568  \u001b[39m |\n",
      "| \u001b[35m7        \u001b[39m | \u001b[35m-87.27   \u001b[39m | \u001b[35m0.005903 \u001b[39m |\n",
      "| \u001b[39m8        \u001b[39m | \u001b[39m-111.3   \u001b[39m | \u001b[39m0.08663  \u001b[39m |\n",
      "| \u001b[39m9        \u001b[39m | \u001b[39m-109.2   \u001b[39m | \u001b[39m0.06015  \u001b[39m |\n",
      "| \u001b[39m10       \u001b[39m | \u001b[39m-109.9   \u001b[39m | \u001b[39m0.07084  \u001b[39m |\n",
      "| \u001b[35m11       \u001b[39m | \u001b[35m-83.82   \u001b[39m | \u001b[35m0.0001   \u001b[39m |\n",
      "| \u001b[39m12       \u001b[39m | \u001b[39m-83.82   \u001b[39m | \u001b[39m0.0001158\u001b[39m |\n",
      "| \u001b[39m13       \u001b[39m | \u001b[39m-83.82   \u001b[39m | \u001b[39m0.0001048\u001b[39m |\n",
      "| \u001b[39m14       \u001b[39m | \u001b[39m-83.82   \u001b[39m | \u001b[39m0.0001006\u001b[39m |\n",
      "| \u001b[39m15       \u001b[39m | \u001b[39m-83.82   \u001b[39m | \u001b[39m0.0001017\u001b[39m |\n",
      "| \u001b[39m16       \u001b[39m | \u001b[39m-83.82   \u001b[39m | \u001b[39m0.0001008\u001b[39m |\n",
      "| \u001b[39m17       \u001b[39m | \u001b[39m-83.83   \u001b[39m | \u001b[39m0.000127 \u001b[39m |\n",
      "| \u001b[39m18       \u001b[39m | \u001b[39m-83.82   \u001b[39m | \u001b[39m0.000113 \u001b[39m |\n",
      "| \u001b[39m19       \u001b[39m | \u001b[39m-83.82   \u001b[39m | \u001b[39m0.0001129\u001b[39m |\n",
      "| \u001b[39m20       \u001b[39m | \u001b[39m-83.82   \u001b[39m | \u001b[39m0.0001029\u001b[39m |\n",
      "| \u001b[39m21       \u001b[39m | \u001b[39m-83.82   \u001b[39m | \u001b[39m0.0001098\u001b[39m |\n",
      "| \u001b[39m22       \u001b[39m | \u001b[39m-83.82   \u001b[39m | \u001b[39m0.0001028\u001b[39m |\n",
      "| \u001b[39m23       \u001b[39m | \u001b[39m-83.82   \u001b[39m | \u001b[39m0.0001028\u001b[39m |\n",
      "| \u001b[39m24       \u001b[39m | \u001b[39m-83.82   \u001b[39m | \u001b[39m0.0001037\u001b[39m |\n",
      "| \u001b[39m25       \u001b[39m | \u001b[39m-83.82   \u001b[39m | \u001b[39m0.0001016\u001b[39m |\n",
      "| \u001b[39m26       \u001b[39m | \u001b[39m-83.82   \u001b[39m | \u001b[39m0.0001007\u001b[39m |\n",
      "| \u001b[39m27       \u001b[39m | \u001b[39m-83.82   \u001b[39m | \u001b[39m0.0001007\u001b[39m |\n",
      "| \u001b[39m28       \u001b[39m | \u001b[39m-83.82   \u001b[39m | \u001b[39m0.0001005\u001b[39m |\n",
      "| \u001b[39m29       \u001b[39m | \u001b[39m-83.82   \u001b[39m | \u001b[39m0.000104 \u001b[39m |\n",
      "| \u001b[39m30       \u001b[39m | \u001b[39m-83.82   \u001b[39m | \u001b[39m0.0001146\u001b[39m |\n",
      "| \u001b[39m31       \u001b[39m | \u001b[39m-83.82   \u001b[39m | \u001b[39m0.0001049\u001b[39m |\n",
      "| \u001b[39m32       \u001b[39m | \u001b[39m-83.82   \u001b[39m | \u001b[39m0.0001049\u001b[39m |\n",
      "| \u001b[39m33       \u001b[39m | \u001b[39m-83.82   \u001b[39m | \u001b[39m0.0001049\u001b[39m |\n",
      "| \u001b[39m34       \u001b[39m | \u001b[39m-83.82   \u001b[39m | \u001b[39m0.0001002\u001b[39m |\n",
      "| \u001b[39m35       \u001b[39m | \u001b[39m-83.83   \u001b[39m | \u001b[39m0.000127 \u001b[39m |\n",
      "| \u001b[39m36       \u001b[39m | \u001b[39m-83.83   \u001b[39m | \u001b[39m0.000127 \u001b[39m |\n",
      "| \u001b[39m37       \u001b[39m | \u001b[39m-83.82   \u001b[39m | \u001b[39m0.0001057\u001b[39m |\n",
      "| \u001b[39m38       \u001b[39m | \u001b[39m-83.82   \u001b[39m | \u001b[39m0.0001195\u001b[39m |\n",
      "| \u001b[39m39       \u001b[39m | \u001b[39m-83.83   \u001b[39m | \u001b[39m0.0001251\u001b[39m |\n",
      "| \u001b[39m40       \u001b[39m | \u001b[39m-83.82   \u001b[39m | \u001b[39m0.0001008\u001b[39m |\n",
      "=====================================\n",
      "Best parameters for Lasso:  {'alpha': 0.0001}\n",
      "[8.50185972 8.98238279 9.63801814 9.16183868 9.45074747]\n"
     ]
    }
   ],
   "source": [
    "#fit for Lasso\n",
    "# Ignore non-convergence warnings\n",
    "warnings.filterwarnings('ignore', category=ConvergenceWarning)\n",
    "\n",
    "# Hyperparameter bounds for Lasso Regression\n",
    "params_lasso = {'alpha': (1e-4, 1e-1)}\n",
    "\n",
    "# Optimize Lasso Regression\n",
    "best_params_lasso = optimize_model(Lasso, params_lasso, {}, cv_params)\n",
    "print(\"Best parameters for Lasso: \", best_params_lasso)\n",
    "\n",
    "# Train the Lasso model with the best parameters\n",
    "model_lasso = Lasso(**best_params_lasso, max_iter=1000)\n",
    "model_lasso.fit(X_train, y_train)\n",
    "\n",
    "\n",
    "# Make predictions and evaluate the model on the test set\n",
    "#y_pred_lasso = model_lasso.predict(X_test)\n",
    "#final_rmse_lasso = mean_squared_error(y_test, y_pred_lasso, squared=False)\n",
    "lasso_score = cross_val_score(model_lasso, X_train, y_train, scoring=make_scorer(rmse), cv=5)\n",
    "print(lasso_score)\n",
    "\n",
    "#print(\"Final Test RMSE for Lasso:\", final_rmse_lasso)"
   ]
  },
  {
   "cell_type": "markdown",
   "id": "d96d69a9-ce92-42a6-bdc6-85e3ecc4e44b",
   "metadata": {},
   "source": [
    "We see that ridge regression is more effective than Lasso"
   ]
  },
  {
   "cell_type": "markdown",
   "id": "c284014f-a8cf-4ac4-81f6-c9cb399684c9",
   "metadata": {},
   "source": [
    "## 4. Non-Linear Model"
   ]
  },
  {
   "cell_type": "markdown",
   "id": "bbc23534-ec9d-4642-a868-b5224fb57e7e",
   "metadata": {},
   "source": [
    "### Random Forest \n",
    "\n",
    "We tried to perform a  hyperparameter tuning for a Random Forest Regressor using GridSearchCV, with a focus on finding the optimal combination of hyperparameters to minimize RMSE, unfortunately it seems that we have failed since the RMSE after tuning is higher than before"
   ]
  },
  {
   "cell_type": "code",
   "execution_count": 12,
   "id": "ca884bfc-8e01-48b5-a868-8d5c234a1545",
   "metadata": {
    "execution": {
     "iopub.execute_input": "2024-12-20T16:05:40.348860Z",
     "iopub.status.busy": "2024-12-20T16:05:40.347910Z",
     "iopub.status.idle": "2024-12-20T16:06:28.049270Z",
     "shell.execute_reply": "2024-12-20T16:06:28.044227Z",
     "shell.execute_reply.started": "2024-12-20T16:05:40.348776Z"
    }
   },
   "outputs": [
    {
     "name": "stdout",
     "output_type": "stream",
     "text": [
      "[5.23723352 5.78523878 5.8549462  5.06889091 6.33270759]\n"
     ]
    }
   ],
   "source": [
    "random_forest = RandomForestRegressor(n_estimators=100, random_state=seed)\n",
    "random_forest.fit(X_train, y_train)\n",
    "random_forest_score = cross_val_score(random_forest, X_train, y_train, scoring=make_scorer(rmse), cv=5)\n",
    "print(random_forest_score)"
   ]
  },
  {
   "cell_type": "code",
   "execution_count": 13,
   "id": "eb069009-f3fb-456e-b56a-fa4e9e6dfe74",
   "metadata": {
    "execution": {
     "iopub.execute_input": "2024-12-20T16:07:21.437371Z",
     "iopub.status.busy": "2024-12-20T16:07:21.341115Z",
     "iopub.status.idle": "2024-12-20T16:07:21.641756Z",
     "shell.execute_reply": "2024-12-20T16:07:21.637885Z",
     "shell.execute_reply.started": "2024-12-20T16:07:21.437194Z"
    }
   },
   "outputs": [
    {
     "data": {
      "text/plain": [
       "5.631665752526609"
      ]
     },
     "execution_count": 13,
     "metadata": {},
     "output_type": "execute_result"
    }
   ],
   "source": [
    "y_pred = random_forest.predict(X_test)\n",
    "RMSE = rmse(y_test, y_pred)  # Calculate RMSE\n",
    "print(RMSE)"
   ]
  },
  {
   "cell_type": "code",
   "execution_count": 29,
   "id": "2a3874e8-5199-4631-a12d-ca1031b3ebd6",
   "metadata": {
    "execution": {
     "iopub.execute_input": "2024-12-20T15:15:50.252650Z",
     "iopub.status.busy": "2024-12-20T15:15:50.251249Z",
     "iopub.status.idle": "2024-12-20T15:18:29.575423Z",
     "shell.execute_reply": "2024-12-20T15:18:29.572907Z",
     "shell.execute_reply.started": "2024-12-20T15:15:50.252520Z"
    }
   },
   "outputs": [
    {
     "name": "stdout",
     "output_type": "stream",
     "text": [
      "Fitting 3 folds for each of 72 candidates, totalling 216 fits\n",
      "[CV] END max_depth=3, min_samples_leaf=4, min_samples_split=7, n_estimators=300; total time=   0.8s\n",
      "[CV] END max_depth=3, min_samples_leaf=4, min_samples_split=7, n_estimators=300; total time=   0.8s\n",
      "[CV] END max_depth=3, min_samples_leaf=4, min_samples_split=7, n_estimators=500; total time=   1.4s\n",
      "[CV] END max_depth=3, min_samples_leaf=4, min_samples_split=10, n_estimators=300; total time=   0.9s\n",
      "[CV] END max_depth=3, min_samples_leaf=4, min_samples_split=10, n_estimators=300; total time=   0.8s\n",
      "[CV] END max_depth=3, min_samples_leaf=4, min_samples_split=10, n_estimators=500; total time=   1.4s\n",
      "[CV] END max_depth=3, min_samples_leaf=4, min_samples_split=15, n_estimators=300; total time=   0.8s\n",
      "[CV] END max_depth=3, min_samples_leaf=4, min_samples_split=15, n_estimators=300; total time=   0.9s\n",
      "[CV] END max_depth=3, min_samples_leaf=4, min_samples_split=15, n_estimators=500; total time=   1.4s\n",
      "[CV] END max_depth=3, min_samples_leaf=4, min_samples_split=15, n_estimators=500; total time=   1.5s\n",
      "[CV] END max_depth=3, min_samples_leaf=7, min_samples_split=7, n_estimators=300; total time=   0.9s\n",
      "[CV] END max_depth=3, min_samples_leaf=7, min_samples_split=7, n_estimators=500; total time=   1.4s\n",
      "[CV] END max_depth=3, min_samples_leaf=7, min_samples_split=7, n_estimators=500; total time=   1.4s\n",
      "[CV] END max_depth=3, min_samples_leaf=7, min_samples_split=10, n_estimators=300; total time=   1.0s\n",
      "[CV] END max_depth=3, min_samples_leaf=7, min_samples_split=10, n_estimators=500; total time=   1.7s\n",
      "[CV] END max_depth=3, min_samples_leaf=7, min_samples_split=15, n_estimators=300; total time=   0.9s\n",
      "[CV] END max_depth=3, min_samples_leaf=7, min_samples_split=15, n_estimators=300; total time=   1.0s\n",
      "[CV] END max_depth=3, min_samples_leaf=7, min_samples_split=15, n_estimators=500; total time=   1.5s\n",
      "[CV] END max_depth=3, min_samples_leaf=7, min_samples_split=15, n_estimators=500; total time=   1.6s\n",
      "[CV] END max_depth=3, min_samples_leaf=10, min_samples_split=7, n_estimators=300; total time=   0.9s\n",
      "[CV] END max_depth=3, min_samples_leaf=10, min_samples_split=7, n_estimators=500; total time=   1.4s\n",
      "[CV] END max_depth=3, min_samples_leaf=10, min_samples_split=10, n_estimators=300; total time=   0.9s\n",
      "[CV] END max_depth=3, min_samples_leaf=10, min_samples_split=10, n_estimators=300; total time=   1.1s\n",
      "[CV] END max_depth=3, min_samples_leaf=10, min_samples_split=10, n_estimators=500; total time=   1.7s\n",
      "[CV] END max_depth=3, min_samples_leaf=10, min_samples_split=15, n_estimators=300; total time=   1.0s\n",
      "[CV] END max_depth=3, min_samples_leaf=10, min_samples_split=15, n_estimators=300; total time=   0.9s\n",
      "[CV] END max_depth=3, min_samples_leaf=10, min_samples_split=15, n_estimators=500; total time=   1.6s\n",
      "[CV] END max_depth=4, min_samples_leaf=4, min_samples_split=7, n_estimators=300; total time=   1.1s\n",
      "[CV] END max_depth=4, min_samples_leaf=4, min_samples_split=7, n_estimators=300; total time=   1.1s\n",
      "[CV] END max_depth=4, min_samples_leaf=4, min_samples_split=7, n_estimators=500; total time=   1.8s\n",
      "[CV] END max_depth=4, min_samples_leaf=4, min_samples_split=10, n_estimators=300; total time=   1.1s\n",
      "[CV] END max_depth=4, min_samples_leaf=4, min_samples_split=10, n_estimators=300; total time=   1.1s\n",
      "[CV] END max_depth=4, min_samples_leaf=4, min_samples_split=10, n_estimators=500; total time=   1.8s\n",
      "[CV] END max_depth=4, min_samples_leaf=4, min_samples_split=10, n_estimators=500; total time=   1.7s\n",
      "[CV] END max_depth=4, min_samples_leaf=4, min_samples_split=15, n_estimators=300; total time=   0.9s\n",
      "[CV] END max_depth=4, min_samples_leaf=4, min_samples_split=15, n_estimators=500; total time=   1.8s\n",
      "[CV] END max_depth=4, min_samples_leaf=7, min_samples_split=7, n_estimators=300; total time=   1.1s\n",
      "[CV] END max_depth=4, min_samples_leaf=7, min_samples_split=7, n_estimators=300; total time=   1.0s\n",
      "[CV] END max_depth=4, min_samples_leaf=7, min_samples_split=7, n_estimators=500; total time=   1.9s\n",
      "[CV] END max_depth=4, min_samples_leaf=7, min_samples_split=7, n_estimators=500; total time=   1.8s\n",
      "[CV] END max_depth=4, min_samples_leaf=7, min_samples_split=10, n_estimators=300; total time=   1.0s\n",
      "[CV] END max_depth=4, min_samples_leaf=7, min_samples_split=10, n_estimators=500; total time=   1.6s\n",
      "[CV] END max_depth=4, min_samples_leaf=7, min_samples_split=10, n_estimators=500; total time=   1.8s\n",
      "[CV] END max_depth=4, min_samples_leaf=7, min_samples_split=15, n_estimators=300; total time=   1.0s\n",
      "[CV] END max_depth=4, min_samples_leaf=7, min_samples_split=15, n_estimators=500; total time=   1.9s\n",
      "[CV] END max_depth=4, min_samples_leaf=10, min_samples_split=7, n_estimators=300; total time=   1.0s\n",
      "[CV] END max_depth=4, min_samples_leaf=10, min_samples_split=7, n_estimators=300; total time=   1.0s\n",
      "[CV] END max_depth=4, min_samples_leaf=10, min_samples_split=7, n_estimators=500; total time=   1.8s\n",
      "[CV] END max_depth=4, min_samples_leaf=10, min_samples_split=10, n_estimators=300; total time=   1.1s\n",
      "[CV] END max_depth=4, min_samples_leaf=10, min_samples_split=10, n_estimators=300; total time=   1.1s\n",
      "[CV] END max_depth=4, min_samples_leaf=10, min_samples_split=10, n_estimators=500; total time=   1.9s\n",
      "[CV] END max_depth=4, min_samples_leaf=10, min_samples_split=15, n_estimators=300; total time=   1.1s\n",
      "[CV] END max_depth=4, min_samples_leaf=10, min_samples_split=15, n_estimators=300; total time=   1.1s\n",
      "[CV] END max_depth=4, min_samples_leaf=10, min_samples_split=15, n_estimators=500; total time=   1.7s\n",
      "[CV] END max_depth=4, min_samples_leaf=10, min_samples_split=15, n_estimators=500; total time=   1.8s\n",
      "[CV] END max_depth=5, min_samples_leaf=4, min_samples_split=7, n_estimators=300; total time=   1.1s\n",
      "[CV] END max_depth=5, min_samples_leaf=4, min_samples_split=7, n_estimators=500; total time=   2.0s\n",
      "[CV] END max_depth=5, min_samples_leaf=4, min_samples_split=7, n_estimators=500; total time=   2.0s\n",
      "[CV] END max_depth=5, min_samples_leaf=4, min_samples_split=10, n_estimators=300; total time=   1.2s\n",
      "[CV] END max_depth=5, min_samples_leaf=4, min_samples_split=10, n_estimators=500; total time=   2.1s\n",
      "[CV] END max_depth=5, min_samples_leaf=4, min_samples_split=15, n_estimators=300; total time=   1.3s\n",
      "[CV] END max_depth=5, min_samples_leaf=4, min_samples_split=15, n_estimators=300; total time=   1.2s\n",
      "[CV] END max_depth=5, min_samples_leaf=4, min_samples_split=15, n_estimators=500; total time=   1.8s\n",
      "[CV] END max_depth=5, min_samples_leaf=4, min_samples_split=15, n_estimators=500; total time=   2.1s\n",
      "[CV] END max_depth=5, min_samples_leaf=7, min_samples_split=7, n_estimators=300; total time=   1.1s\n",
      "[CV] END max_depth=5, min_samples_leaf=7, min_samples_split=7, n_estimators=500; total time=   2.0s\n",
      "[CV] END max_depth=5, min_samples_leaf=7, min_samples_split=10, n_estimators=300; total time=   1.1s\n",
      "[CV] END max_depth=5, min_samples_leaf=7, min_samples_split=10, n_estimators=300; total time=   1.1s\n",
      "[CV] END max_depth=5, min_samples_leaf=7, min_samples_split=10, n_estimators=500; total time=   1.7s\n",
      "[CV] END max_depth=5, min_samples_leaf=7, min_samples_split=10, n_estimators=500; total time=   1.8s\n",
      "[CV] END max_depth=5, min_samples_leaf=7, min_samples_split=15, n_estimators=300; total time=   1.3s\n",
      "[CV] END max_depth=5, min_samples_leaf=7, min_samples_split=15, n_estimators=500; total time=   1.9s\n",
      "[CV] END max_depth=5, min_samples_leaf=10, min_samples_split=7, n_estimators=300; total time=   1.2s\n",
      "[CV] END max_depth=5, min_samples_leaf=10, min_samples_split=7, n_estimators=300; total time=   1.0s\n",
      "[CV] END max_depth=5, min_samples_leaf=10, min_samples_split=7, n_estimators=500; total time=   1.7s\n",
      "[CV] END max_depth=5, min_samples_leaf=10, min_samples_split=7, n_estimators=500; total time=   1.7s\n",
      "[CV] END max_depth=5, min_samples_leaf=10, min_samples_split=10, n_estimators=300; total time=   1.0s\n",
      "[CV] END max_depth=5, min_samples_leaf=10, min_samples_split=10, n_estimators=500; total time=   1.7s\n",
      "[CV] END max_depth=5, min_samples_leaf=10, min_samples_split=15, n_estimators=300; total time=   1.0s\n",
      "[CV] END max_depth=5, min_samples_leaf=10, min_samples_split=15, n_estimators=300; total time=   1.0s\n",
      "[CV] END max_depth=5, min_samples_leaf=10, min_samples_split=15, n_estimators=500; total time=   1.7s\n",
      "[CV] END max_depth=5, min_samples_leaf=10, min_samples_split=15, n_estimators=500; total time=   1.7s[CV] END max_depth=3, min_samples_leaf=4, min_samples_split=7, n_estimators=300; total time=   0.9s\n",
      "[CV] END max_depth=3, min_samples_leaf=4, min_samples_split=7, n_estimators=500; total time=   1.4s\n",
      "[CV] END max_depth=3, min_samples_leaf=4, min_samples_split=7, n_estimators=500; total time=   1.4s\n",
      "[CV] END max_depth=3, min_samples_leaf=4, min_samples_split=10, n_estimators=300; total time=   0.9s\n",
      "[CV] END max_depth=3, min_samples_leaf=4, min_samples_split=10, n_estimators=500; total time=   1.4s\n",
      "[CV] END max_depth=3, min_samples_leaf=4, min_samples_split=10, n_estimators=500; total time=   1.4s\n",
      "[CV] END max_depth=3, min_samples_leaf=4, min_samples_split=15, n_estimators=300; total time=   0.8s\n",
      "[CV] END max_depth=3, min_samples_leaf=4, min_samples_split=15, n_estimators=500; total time=   1.5s\n",
      "[CV] END max_depth=3, min_samples_leaf=7, min_samples_split=7, n_estimators=300; total time=   0.9s\n",
      "[CV] END max_depth=3, min_samples_leaf=7, min_samples_split=7, n_estimators=300; total time=   1.0s\n",
      "[CV] END max_depth=3, min_samples_leaf=7, min_samples_split=7, n_estimators=500; total time=   1.7s\n",
      "[CV] END max_depth=3, min_samples_leaf=7, min_samples_split=10, n_estimators=300; total time=   1.0s\n",
      "[CV] END max_depth=3, min_samples_leaf=7, min_samples_split=10, n_estimators=300; total time=   0.8s\n",
      "[CV] END max_depth=3, min_samples_leaf=7, min_samples_split=10, n_estimators=500; total time=   1.7s\n",
      "[CV] END max_depth=3, min_samples_leaf=7, min_samples_split=10, n_estimators=500; total time=   1.7s\n",
      "[CV] END max_depth=3, min_samples_leaf=7, min_samples_split=15, n_estimators=300; total time=   1.0s\n",
      "[CV] END max_depth=3, min_samples_leaf=7, min_samples_split=15, n_estimators=500; total time=   1.4s\n",
      "[CV] END max_depth=3, min_samples_leaf=10, min_samples_split=7, n_estimators=300; total time=   0.9s\n",
      "[CV] END max_depth=3, min_samples_leaf=10, min_samples_split=7, n_estimators=300; total time=   0.8s\n",
      "[CV] END max_depth=3, min_samples_leaf=10, min_samples_split=7, n_estimators=500; total time=   1.4s\n",
      "[CV] END max_depth=3, min_samples_leaf=10, min_samples_split=7, n_estimators=500; total time=   1.5s\n",
      "[CV] END max_depth=3, min_samples_leaf=10, min_samples_split=10, n_estimators=300; total time=   0.9s\n",
      "[CV] END max_depth=3, min_samples_leaf=10, min_samples_split=10, n_estimators=500; total time=   1.4s\n",
      "[CV] END max_depth=3, min_samples_leaf=10, min_samples_split=10, n_estimators=500; total time=   1.4s\n",
      "[CV] END max_depth=3, min_samples_leaf=10, min_samples_split=15, n_estimators=300; total time=   0.8s\n",
      "[CV] END max_depth=3, min_samples_leaf=10, min_samples_split=15, n_estimators=500; total time=   1.4s\n",
      "[CV] END max_depth=3, min_samples_leaf=10, min_samples_split=15, n_estimators=500; total time=   1.4s\n",
      "[CV] END max_depth=4, min_samples_leaf=4, min_samples_split=7, n_estimators=300; total time=   1.0s\n",
      "[CV] END max_depth=4, min_samples_leaf=4, min_samples_split=7, n_estimators=500; total time=   1.6s\n",
      "[CV] END max_depth=4, min_samples_leaf=4, min_samples_split=7, n_estimators=500; total time=   1.6s\n",
      "[CV] END max_depth=4, min_samples_leaf=4, min_samples_split=10, n_estimators=300; total time=   1.0s\n",
      "[CV] END max_depth=4, min_samples_leaf=4, min_samples_split=10, n_estimators=500; total time=   1.8s\n",
      "[CV] END max_depth=4, min_samples_leaf=4, min_samples_split=15, n_estimators=300; total time=   1.0s\n",
      "[CV] END max_depth=4, min_samples_leaf=4, min_samples_split=15, n_estimators=300; total time=   1.2s\n",
      "[CV] END max_depth=4, min_samples_leaf=4, min_samples_split=15, n_estimators=500; total time=   2.0s\n",
      "[CV] END max_depth=4, min_samples_leaf=4, min_samples_split=15, n_estimators=500; total time=   1.9s\n",
      "[CV] END max_depth=4, min_samples_leaf=7, min_samples_split=7, n_estimators=300; total time=   1.1s\n",
      "[CV] END max_depth=4, min_samples_leaf=7, min_samples_split=7, n_estimators=500; total time=   1.9s\n",
      "[CV] END max_depth=4, min_samples_leaf=7, min_samples_split=10, n_estimators=300; total time=   1.1s\n",
      "[CV] END max_depth=4, min_samples_leaf=7, min_samples_split=10, n_estimators=300; total time=   1.1s\n",
      "[CV] END max_depth=4, min_samples_leaf=7, min_samples_split=10, n_estimators=500; total time=   1.6s\n",
      "[CV] END max_depth=4, min_samples_leaf=7, min_samples_split=15, n_estimators=300; total time=   0.9s\n",
      "[CV] END max_depth=4, min_samples_leaf=7, min_samples_split=15, n_estimators=300; total time=   0.9s\n",
      "[CV] END max_depth=4, min_samples_leaf=7, min_samples_split=15, n_estimators=500; total time=   1.5s\n",
      "[CV] END max_depth=4, min_samples_leaf=7, min_samples_split=15, n_estimators=500; total time=   1.6s\n",
      "[CV] END max_depth=4, min_samples_leaf=10, min_samples_split=7, n_estimators=300; total time=   1.1s\n",
      "[CV] END max_depth=4, min_samples_leaf=10, min_samples_split=7, n_estimators=500; total time=   1.8s\n",
      "[CV] END max_depth=4, min_samples_leaf=10, min_samples_split=7, n_estimators=500; total time=   1.6s\n",
      "[CV] END max_depth=4, min_samples_leaf=10, min_samples_split=10, n_estimators=300; total time=   0.9s\n",
      "[CV] END max_depth=4, min_samples_leaf=10, min_samples_split=10, n_estimators=500; total time=   1.9s\n",
      "[CV] END max_depth=4, min_samples_leaf=10, min_samples_split=10, n_estimators=500; total time=   1.8s\n",
      "[CV] END max_depth=4, min_samples_leaf=10, min_samples_split=15, n_estimators=300; total time=   1.1s\n",
      "[CV] END max_depth=4, min_samples_leaf=10, min_samples_split=15, n_estimators=500; total time=   1.8s\n",
      "[CV] END max_depth=5, min_samples_leaf=4, min_samples_split=7, n_estimators=300; total time=   1.3s\n",
      "[CV] END max_depth=5, min_samples_leaf=4, min_samples_split=7, n_estimators=300; total time=   1.2s\n",
      "[CV] END max_depth=5, min_samples_leaf=4, min_samples_split=7, n_estimators=500; total time=   2.0s\n",
      "[CV] END max_depth=5, min_samples_leaf=4, min_samples_split=10, n_estimators=300; total time=   1.2s\n",
      "[CV] END max_depth=5, min_samples_leaf=4, min_samples_split=10, n_estimators=300; total time=   1.3s\n",
      "[CV] END max_depth=5, min_samples_leaf=4, min_samples_split=10, n_estimators=500; total time=   1.9s\n",
      "[CV] END max_depth=5, min_samples_leaf=4, min_samples_split=10, n_estimators=500; total time=   2.1s\n",
      "[CV] END max_depth=5, min_samples_leaf=4, min_samples_split=15, n_estimators=300; total time=   1.0s\n",
      "[CV] END max_depth=5, min_samples_leaf=4, min_samples_split=15, n_estimators=500; total time=   2.0s\n",
      "[CV] END max_depth=5, min_samples_leaf=7, min_samples_split=7, n_estimators=300; total time=   1.0s\n",
      "[CV] END max_depth=5, min_samples_leaf=7, min_samples_split=7, n_estimators=300; total time=   1.0s\n",
      "[CV] END max_depth=5, min_samples_leaf=7, min_samples_split=7, n_estimators=500; total time=   2.0s\n",
      "[CV] END max_depth=5, min_samples_leaf=7, min_samples_split=7, n_estimators=500; total time=   2.0s\n",
      "[CV] END max_depth=5, min_samples_leaf=7, min_samples_split=10, n_estimators=300; total time=   1.2s\n",
      "[CV] END max_depth=5, min_samples_leaf=7, min_samples_split=10, n_estimators=500; total time=   2.0s\n",
      "[CV] END max_depth=5, min_samples_leaf=7, min_samples_split=15, n_estimators=300; total time=   1.2s\n",
      "[CV] END max_depth=5, min_samples_leaf=7, min_samples_split=15, n_estimators=300; total time=   1.0s\n",
      "[CV] END max_depth=5, min_samples_leaf=7, min_samples_split=15, n_estimators=500; total time=   1.9s\n",
      "[CV] END max_depth=5, min_samples_leaf=7, min_samples_split=15, n_estimators=500; total time=   2.0s\n",
      "[CV] END max_depth=5, min_samples_leaf=10, min_samples_split=7, n_estimators=300; total time=   1.0s\n",
      "[CV] END max_depth=5, min_samples_leaf=10, min_samples_split=7, n_estimators=500; total time=   1.7s\n",
      "[CV] END max_depth=5, min_samples_leaf=10, min_samples_split=10, n_estimators=300; total time=   1.1s\n",
      "[CV] END max_depth=5, min_samples_leaf=10, min_samples_split=10, n_estimators=300; total time=   1.1s\n",
      "[CV] END max_depth=5, min_samples_leaf=10, min_samples_split=10, n_estimators=500; total time=   1.9s\n",
      "[CV] END max_depth=5, min_samples_leaf=10, min_samples_split=10, n_estimators=500; total time=   1.9s\n",
      "[CV] END max_depth=5, min_samples_leaf=10, min_samples_split=15, n_estimators=300; total time=   1.2s\n",
      "[CV] END max_depth=5, min_samples_leaf=10, min_samples_split=15, n_estimators=500; total time=   1.7s\n",
      "[CV] END max_depth=6, min_samples_leaf=4, min_samples_split=7, n_estimators=300; total time=   1.2s\n",
      "[CV] END max_depth=6, min_samples_leaf=4, min_samples_split=7, n_estimators=300; total time=   1.2sBest Hyperparameters: {'max_depth': 3, 'min_samples_leaf': 10, 'min_samples_split': 7, 'n_estimators': 300}\n",
      "Test RMSE: 8.83810572775387\n"
     ]
    }
   ],
   "source": [
    "# Define the parameter grid for GridSearchCV\n",
    "param_grid = {\n",
    "    'n_estimators': [ 300 , 500 ],       # Number of trees\n",
    "    'max_depth': [3, 4,  5 ,6 ],      # Maximum depth of the tree\n",
    "    'min_samples_split': [ 7,10, 15 ],      # Minimum samples required to split an internal node\n",
    "    'min_samples_leaf': [  4 , 7 ,10]       # Minimum samples required at a leaf node\n",
    "     \n",
    "}\n",
    "\n",
    "# Set up GridSearchCV with cross-validation\n",
    "grid_search = GridSearchCV(\n",
    "    estimator=random_forest,\n",
    "    param_grid=param_grid,\n",
    "    cv=3,  # 3-fold cross-validation\n",
    "    scoring= make_scorer(rmse),  # Use negative MSE as the scoring metric\n",
    "    verbose=2,  # Display progress\n",
    "    n_jobs=-1   # Use all available cores\n",
    ")\n",
    "\n",
    "# Fit GridSearchCV on the training data\n",
    "grid_search.fit(X_train, y_train)\n",
    "\n",
    "# Get the best hyperparameters\n",
    "best_params = grid_search.best_params_\n",
    "print(\"Best Hyperparameters:\", best_params)\n",
    "\n",
    "# Evaluate the best model on the test data\n",
    "best_model = grid_search.best_estimator_\n",
    "y_pred = best_model.predict(X_test)\n",
    "RMSE = rmse(y_test, y_pred)  # Calculate RMSE\n",
    "print(\"Test RMSE:\", RMSE)"
   ]
  },
  {
   "cell_type": "markdown",
   "id": "bc1f8de9-b871-433f-a377-bdb1ee4db60d",
   "metadata": {},
   "source": [
    "### Neural Network\n",
    "For the neural network we used the filter uploaded on Kaggle and trained a neural network with 3 hidden layers. We hypertuned it with different values of n neurons between 200 and 300, with decreasing the number of neurons with each layer tto capture high level of relationships at the end layer. We also added early stopping so that the model doesn't run infinitely ."
   ]
  },
  {
   "cell_type": "code",
   "execution_count": 32,
   "id": "3dbad34e-a298-4015-9027-52851b984142",
   "metadata": {
    "execution": {
     "iopub.execute_input": "2024-12-20T15:18:48.345971Z",
     "iopub.status.busy": "2024-12-20T15:18:48.345406Z",
     "iopub.status.idle": "2024-12-20T15:18:48.724636Z",
     "shell.execute_reply": "2024-12-20T15:18:48.723107Z",
     "shell.execute_reply.started": "2024-12-20T15:18:48.345919Z"
    }
   },
   "outputs": [],
   "source": [
    "# Neural Network with Four Hidden Layers\n",
    "class Network(nn.Module):\n",
    "    def __init__(self, input_size, hidden1, hidden2, hidden3, hidden4):\n",
    "        \"\"\"\n",
    "        Initialize the neural network architecture.\n",
    "\n",
    "        Args:\n",
    "            input_size (int): Number of input features.\n",
    "            hidden1 (int): Number of neurons in the first hidden layer.\n",
    "            hidden2 (int): Number of neurons in the second hidden layer.\n",
    "            hidden3 (int): Number of neurons in the third hidden layer.\n",
    "            hidden4 (int): Number of neurons in the fourth hidden layer.\n",
    "        \"\"\"\n",
    "        super(Network, self).__init__()\n",
    "        self.fc1 = nn.Linear(input_size, hidden1)  # First fully connected layer\n",
    "        self.fc2 = nn.Linear(hidden1, hidden2)    # Second fully connected layer\n",
    "        self.fc3 = nn.Linear(hidden2, hidden3)    # Third fully connected layer\n",
    "        self.fc4 = nn.Linear(hidden3, hidden4)    # Fourth fully connected layer\n",
    "        self.fc5 = nn.Linear(hidden4, 1)         # Output layer (single output)\n",
    "\n",
    "    def forward(self, x):\n",
    "        \"\"\"\n",
    "        Define the forward pass of the network using SELU activation.\n",
    "\n",
    "        Args:\n",
    "            x (torch.Tensor): Input tensor.\n",
    "        Returns:\n",
    "            torch.Tensor: Output tensor.\n",
    "        \"\"\"\n",
    "        x = F.selu(self.fc1(x))  # Apply SELU activation to the first layer\n",
    "        x = F.selu(self.fc2(x))  # Apply SELU activation to the second layer\n",
    "        x = F.selu(self.fc3(x))  # Apply SELU activation to the third layer\n",
    "        x = F.selu(self.fc4(x))  # Apply SELU activation to the fourth layer\n",
    "        x = self.fc5(x)          # Output layer without activation (regression task)\n",
    "        return x\n",
    "\n",
    "# RMSE Loss Function\n",
    "def rmse_loss(y_pred, y_true):\n",
    "    \"\"\"\n",
    "    Compute Root Mean Squared Error (RMSE) loss.\n",
    "\n",
    "    Args:\n",
    "        y_pred (torch.Tensor): Predicted values.\n",
    "        y_true (torch.Tensor): True values.\n",
    "    Returns:\n",
    "        torch.Tensor: RMSE loss value.\n",
    "    \"\"\"\n",
    "    return torch.sqrt(torch.mean((y_pred - y_true) ** 2))\n",
    "\n",
    "# Early Stopping Class\n",
    "class EarlyStopping:\n",
    "    def __init__(self, patience=7, min_delta=0):\n",
    "        \"\"\"\n",
    "        Initialize the EarlyStopping class to monitor validation loss.\n",
    "\n",
    "        Args:\n",
    "            patience (int): Number of epochs to wait before stopping if no improvement.\n",
    "            min_delta (float): Minimum change in loss to qualify as an improvement.\n",
    "        \"\"\"\n",
    "        self.patience = patience\n",
    "        self.min_delta = min_delta\n",
    "        self.counter = 0\n",
    "        self.best_loss = None\n",
    "        self.early_stop = False\n",
    "        self.best_model = None\n",
    "\n",
    "    def __call__(self, val_loss, model):\n",
    "        \"\"\"\n",
    "        Update the early stopping mechanism based on validation loss.\n",
    "\n",
    "        Args:\n",
    "            val_loss (float): Current validation loss.\n",
    "            model (torch.nn.Module): Current model instance.\n",
    "        \"\"\"\n",
    "        if self.best_loss is None:\n",
    "            # Initialize the best loss and save the current model state\n",
    "            self.best_loss = val_loss\n",
    "            self.best_model = model.state_dict()\n",
    "        elif val_loss > self.best_loss - self.min_delta:\n",
    "            # If validation loss has not improved enough, increment the counter\n",
    "            self.counter += 1\n",
    "            if self.counter >= self.patience:\n",
    "                # Stop training if patience is exceeded\n",
    "                self.early_stop = True\n",
    "        else:\n",
    "            # If validation loss improves, reset the counter and save the model\n",
    "            self.best_loss = val_loss\n",
    "            self.best_model = model.state_dict()\n",
    "            self.counter = 0\n",
    "\n",
    "# Objective Function for Hyperparameter Tuning\n",
    "def objective(trial):\n",
    "    \"\"\"\n",
    "    Define the objective function for Optuna hyperparameter tuning.\n",
    "\n",
    "    Args:\n",
    "        trial (optuna.Trial): A single trial object for hyperparameter suggestions.\n",
    "    Returns:\n",
    "        float: Mean validation loss across folds.\n",
    "    \"\"\"\n",
    "    # Suggest hyperparameters for the network and optimizer\n",
    "    hidden1 = trial.suggest_int('hidden1', 200, 300)    # Number of neurons in the first hidden layer\n",
    "    hidden2 = trial.suggest_int('hidden2', 100, 200)    # Number of neurons in the second hidden layer\n",
    "    hidden3 = trial.suggest_int('hidden3', 50, 100)     # Number of neurons in the third hidden layer\n",
    "    hidden4 = trial.suggest_int('hidden4', 25, 50)      # Number of neurons in the fourth hidden layer\n",
    "    learning_rate = trial.suggest_float('learning_rate', 1e-4, 1e-2, log=True)  # Learning rate for the optimizer\n",
    "\n",
    "    # Initialize the model and optimizer\n",
    "    model = Network(X_tensor.shape[1], hidden1, hidden2, hidden3, hidden4)\n",
    "    optimizer = torch.optim.Adam(model.parameters(), lr=learning_rate)\n",
    "\n",
    "    # Set up k-fold cross-validation\n",
    "    kf = KFold(n_splits=5, shuffle=True, random_state=42)\n",
    "    val_losses = []  # Store validation losses for each fold\n",
    "\n",
    "    for train_idx, val_idx in kf.split(X_tensor):\n",
    "        # Split the data into training and validation sets for the current fold\n",
    "        X_train, X_val = X_tensor[train_idx], X_tensor[val_idx]\n",
    "        y_train, y_val = y_tensor[train_idx], y_tensor[val_idx]\n",
    "\n",
    "        # Create a DataLoader for training data\n",
    "        train_dataset = TensorDataset(X_train, y_train)\n",
    "        train_loader = DataLoader(train_dataset, batch_size=32, shuffle=True)\n",
    "\n",
    "        # Initialize EarlyStopping instance\n",
    "        early_stopping = EarlyStopping(patience=5)\n",
    "\n",
    "        for epoch in range(50):  # Train for a maximum of 50 epochs\n",
    "            model.train()\n",
    "            for batch_X, batch_y in train_loader:\n",
    "                optimizer.zero_grad()                  # Zero the gradients\n",
    "                predictions = model(batch_X)           # Forward pass\n",
    "                loss = rmse_loss(predictions, batch_y) # Compute RMSE loss\n",
    "                loss.backward()                        # Backward pass\n",
    "                optimizer.step()                       # Update weights\n",
    "\n",
    "            # Evaluate on validation set\n",
    "            model.eval()\n",
    "            with torch.no_grad():\n",
    "                val_predictions = model(X_val)  # Predictions on validation data\n",
    "                val_loss = rmse_loss(val_predictions, y_val).item()  # Compute validation loss\n",
    "\n",
    "            # Update early stopping\n",
    "            early_stopping(val_loss, model)\n",
    "            if early_stopping.early_stop:\n",
    "                # Stop training if early stopping criteria are met\n",
    "                break\n",
    "\n",
    "        # Append the best validation loss for this fold\n",
    "        val_losses.append(early_stopping.best_loss)\n",
    "\n",
    "    # Return the mean validation loss across all folds\n",
    "    return np.mean(val_losses)\n"
   ]
  },
  {
   "cell_type": "code",
   "execution_count": null,
   "id": "d2dc62d2-2d30-416b-a3b7-66d6586c0a0f",
   "metadata": {
    "execution": {
     "iopub.execute_input": "2024-12-20T15:18:48.726155Z",
     "iopub.status.busy": "2024-12-20T15:18:48.725707Z"
    },
    "scrolled": true
   },
   "outputs": [
    {
     "name": "stderr",
     "output_type": "stream",
     "text": [
      "[I 2024-12-20 16:18:48,771] A new study created in memory with name: no-name-afd09626-9c19-4ab5-bb4e-0c5589439b3e\n"
     ]
    },
    {
     "name": "stdout",
     "output_type": "stream",
     "text": [
      "\n",
      "[CV] END max_depth=6, min_samples_leaf=4, min_samples_split=7, n_estimators=500; total time=   2.2s\n",
      "[CV] END max_depth=6, min_samples_leaf=4, min_samples_split=10, n_estimators=300; total time=   1.3s\n",
      "[CV] END max_depth=6, min_samples_leaf=4, min_samples_split=10, n_estimators=300; total time=   1.3s\n",
      "[CV] END max_depth=6, min_samples_leaf=4, min_samples_split=10, n_estimators=500; total time=   2.1s\n",
      "[CV] END max_depth=6, min_samples_leaf=4, min_samples_split=15, n_estimators=300; total time=   1.4s\n",
      "[CV] END max_depth=6, min_samples_leaf=4, min_samples_split=15, n_estimators=300; total time=   1.2s\n",
      "[CV] END max_depth=6, min_samples_leaf=4, min_samples_split=15, n_estimators=500; total time=   2.2s\n",
      "[CV] END max_depth=6, min_samples_leaf=4, min_samples_split=15, n_estimators=500; total time=   1.9s\n",
      "[CV] END max_depth=6, min_samples_leaf=7, min_samples_split=7, n_estimators=300; total time=   1.3s\n",
      "[CV] END max_depth=6, min_samples_leaf=7, min_samples_split=7, n_estimators=500; total time=   2.1s\n",
      "[CV] END max_depth=6, min_samples_leaf=7, min_samples_split=7, n_estimators=500; total time=   2.1s\n",
      "[CV] END max_depth=6, min_samples_leaf=7, min_samples_split=10, n_estimators=300; total time=   1.3s\n",
      "[CV] END max_depth=6, min_samples_leaf=7, min_samples_split=10, n_estimators=500; total time=   1.8s\n",
      "[CV] END max_depth=6, min_samples_leaf=7, min_samples_split=15, n_estimators=300; total time=   1.1s\n",
      "[CV] END max_depth=6, min_samples_leaf=7, min_samples_split=15, n_estimators=300; total time=   1.2s\n",
      "[CV] END max_depth=6, min_samples_leaf=7, min_samples_split=15, n_estimators=500; total time=   2.1s\n",
      "[CV] END max_depth=6, min_samples_leaf=10, min_samples_split=7, n_estimators=300; total time=   1.2s\n",
      "[CV] END max_depth=6, min_samples_leaf=10, min_samples_split=7, n_estimators=300; total time=   1.2s\n",
      "[CV] END max_depth=6, min_samples_leaf=10, min_samples_split=7, n_estimators=500; total time=   2.1s\n",
      "[CV] END max_depth=6, min_samples_leaf=10, min_samples_split=7, n_estimators=500; total time=   2.1s\n",
      "[CV] END max_depth=6, min_samples_leaf=10, min_samples_split=10, n_estimators=300; total time=   1.3s\n",
      "[CV] END max_depth=6, min_samples_leaf=10, min_samples_split=10, n_estimators=500; total time=   2.0s\n",
      "[CV] END max_depth=6, min_samples_leaf=10, min_samples_split=15, n_estimators=300; total time=   1.1s\n",
      "[CV] END max_depth=6, min_samples_leaf=10, min_samples_split=15, n_estimators=300; total time=   1.1s\n",
      "[CV] END max_depth=6, min_samples_leaf=10, min_samples_split=15, n_estimators=500; total time=   1.9s\n",
      "\n",
      "[CV] END max_depth=6, min_samples_leaf=4, min_samples_split=7, n_estimators=300; total time=   1.2s\n",
      "[CV] END max_depth=6, min_samples_leaf=4, min_samples_split=7, n_estimators=500; total time=   2.1s\n",
      "[CV] END max_depth=6, min_samples_leaf=4, min_samples_split=7, n_estimators=500; total time=   2.1s\n",
      "[CV] END max_depth=6, min_samples_leaf=4, min_samples_split=10, n_estimators=300; total time=   1.2s\n",
      "[CV] END max_depth=6, min_samples_leaf=4, min_samples_split=10, n_estimators=500; total time=   1.9s\n",
      "[CV] END max_depth=6, min_samples_leaf=4, min_samples_split=10, n_estimators=500; total time=   2.1s\n",
      "[CV] END max_depth=6, min_samples_leaf=4, min_samples_split=15, n_estimators=300; total time=   1.3s\n",
      "[CV] END max_depth=6, min_samples_leaf=4, min_samples_split=15, n_estimators=500; total time=   2.3s\n",
      "[CV] END max_depth=6, min_samples_leaf=7, min_samples_split=7, n_estimators=300; total time=   1.3s\n",
      "[CV] END max_depth=6, min_samples_leaf=7, min_samples_split=7, n_estimators=300; total time=   1.3s\n",
      "[CV] END max_depth=6, min_samples_leaf=7, min_samples_split=7, n_estimators=500; total time=   2.1s\n",
      "[CV] END max_depth=6, min_samples_leaf=7, min_samples_split=10, n_estimators=300; total time=   1.2s\n",
      "[CV] END max_depth=6, min_samples_leaf=7, min_samples_split=10, n_estimators=300; total time=   1.1s\n",
      "[CV] END max_depth=6, min_samples_leaf=7, min_samples_split=10, n_estimators=500; total time=   1.8s\n",
      "[CV] END max_depth=6, min_samples_leaf=7, min_samples_split=10, n_estimators=500; total time=   1.8s\n",
      "[CV] END max_depth=6, min_samples_leaf=7, min_samples_split=15, n_estimators=300; total time=   1.1s\n",
      "[CV] END max_depth=6, min_samples_leaf=7, min_samples_split=15, n_estimators=500; total time=   1.9s\n",
      "[CV] END max_depth=6, min_samples_leaf=7, min_samples_split=15, n_estimators=500; total time=   1.9s\n",
      "[CV] END max_depth=6, min_samples_leaf=10, min_samples_split=7, n_estimators=300; total time=   1.3s\n",
      "[CV] END max_depth=6, min_samples_leaf=10, min_samples_split=7, n_estimators=500; total time=   2.1s\n",
      "[CV] END max_depth=6, min_samples_leaf=10, min_samples_split=10, n_estimators=300; total time=   1.2s\n",
      "[CV] END max_depth=6, min_samples_leaf=10, min_samples_split=10, n_estimators=300; total time=   1.2s\n",
      "[CV] END max_depth=6, min_samples_leaf=10, min_samples_split=10, n_estimators=500; total time=   2.0s\n",
      "[CV] END max_depth=6, min_samples_leaf=10, min_samples_split=10, n_estimators=500; total time=   1.8s\n",
      "[CV] END max_depth=6, min_samples_leaf=10, min_samples_split=15, n_estimators=300; total time=   1.0s\n",
      "[CV] END max_depth=6, min_samples_leaf=10, min_samples_split=15, n_estimators=500; total time=   1.8s\n",
      "[CV] END max_depth=6, min_samples_leaf=10, min_samples_split=15, n_estimators=500; total time=   1.7s\n"
     ]
    },
    {
     "name": "stderr",
     "output_type": "stream",
     "text": [
      "[I 2024-12-20 16:44:32,768] Trial 0 finished with value: 2.0928417205810548 and parameters: {'hidden1': 237, 'hidden2': 196, 'hidden3': 87, 'hidden4': 40, 'learning_rate': 0.0002051338263087451}. Best is trial 0 with value: 2.0928417205810548.\n"
     ]
    }
   ],
   "source": [
    "# Optuna Study\n",
    "study = optuna.create_study(direction='minimize', sampler=optuna.samplers.TPESampler(seed=42))\n",
    "# Create an Optuna study object to minimize the objective function\n",
    "# The TPE sampler is used for efficient hyperparameter optimization\n",
    "study.optimize(objective, n_trials=15)\n",
    "# Run the study for 15 trials, optimizing the objective function\n",
    "\n",
    "# Best Hyperparameters\n",
    "best_params = study.best_params\n",
    "# Retrieve the best hyperparameters found by the study\n",
    "print(\"Best Hyperparameters:\", best_params)\n",
    "# Print the best hyperparameters for reference\n",
    "\n",
    "# Final Model Training\n",
    "final_model = Network(\n",
    "    X_tensor.shape[1], \n",
    "    best_params['hidden1'], \n",
    "    best_params['hidden2'], \n",
    "    best_params['hidden3'], \n",
    "    best_params['hidden4']\n",
    ")\n",
    "# Initialize the final model with the optimal hyperparameters\n",
    "\n",
    "final_optimizer = torch.optim.Adam(final_model.parameters(), lr=best_params['learning_rate'])\n",
    "# Set up the optimizer with the optimal learning rate\n",
    "\n",
    "# Create a dataset and dataloader for the full training data\n",
    "dataset = TensorDataset(X_tensor, y_tensor)\n",
    "dataloader = DataLoader(dataset, batch_size=32, shuffle=True)\n",
    "\n",
    "# Train the final model\n",
    "for epoch in range(50):  # Train for 50 epochs\n",
    "    final_model.train()  # Set the model to training mode\n",
    "    for batch_X, batch_y in dataloader:\n",
    "        final_optimizer.zero_grad()                  # Zero the gradients\n",
    "        predictions = final_model(batch_X)           # Forward pass\n",
    "        loss = rmse_loss(predictions, batch_y)       # Compute RMSE loss\n",
    "        loss.backward()                              # Backward pass\n",
    "        final_optimizer.step()                       # Update weights\n",
    "\n",
    "print(\"Final training complete.\")\n",
    "# Indicate that the training process is finished\n"
   ]
  },
  {
   "cell_type": "markdown",
   "id": "837f037e-1230-4e65-b990-287215b7258f",
   "metadata": {},
   "source": [
    "### Creating the sumbimmison file"
   ]
  },
  {
   "cell_type": "code",
   "execution_count": null,
   "id": "ead6741e-8651-43bc-bdf3-1cac9572e102",
   "metadata": {},
   "outputs": [],
   "source": [
    "# Set the final model to evaluation mode\n",
    "final_model.eval()\n",
    "\n",
    "# Perform predictions on the test dataset\n",
    "with torch.no_grad():  # Disable gradient calculation (saves memory and computation)\n",
    "    predictions = final_model(test)  # Generate predictions using the trained model\n",
    "\n",
    "# Create a DataFrame to store the output predictions\n",
    "output = pd.DataFrame({\n",
    "    'ID': range(1, len(predictions) + 1),  # Create a sequential ID starting from 1\n",
    "    'PURITY': predictions.flatten()       # Flatten predictions to a single column\n",
    "})\n",
    "\n",
    "# Save the predictions to a CSV file\n",
    "output.to_csv('Prediction2-filter.csv', index=False)  # Save without the index column\n",
    "\n",
    "# The CSV file will have two columns: 'ID' and 'PURITY'\n",
    "# 'ID' is the row number, and 'PURITY' is the predicted value for each sample\n"
   ]
  },
  {
   "cell_type": "markdown",
   "id": "81c9978b-0eb7-4ffd-9e48-78c810286abd",
   "metadata": {},
   "source": [
    "## 5. Conclusion\n",
    "\n",
    "In our analysis, we compared three machine learning models—Random Forest, Linear Regression, and a Neural Network—to predict the purity levels of heroin samples based on their infrared spectra. The results demonstrated a clear advantage of using Neural Networks for this task.\n",
    "\n",
    "- Random Forest and Linear Regression provided decent predictive performance, but both were unable to fully capture the intricate patterns and relationships in the dataset. This limitation is likely due to their reliance on simpler feature relationships and lack of ability to model complex, non-linear interactions within the data. Let us note that the Random Forest performed better than both Linear Regression models without fine tuning, and that the Bayes Ridge model performed better than the Lasso model.\n",
    "\n",
    "- The Neural Network, with its multi-layer architecture and ability to learn non-linear representations, achieved a high accuracy outperforming both Random Forest and Linear Regression. This result highlights the strength of Neural Networks in capturing hidden relationships and extracting deeper insights from complex datasets like infrared spectra.\n",
    "\n",
    "These findings underscore the importance of leveraging advanced modeling techniques such as Neural Networks when dealing with high-dimensional and non-linear data. The ability of the Neural Network to uncover intricate patterns makes it a powerful tool for real-time prediction of drug purity, which is critical for law enforcement."
   ]
  }
 ],
 "metadata": {
  "kernelspec": {
   "display_name": "Python3",
   "language": "python",
   "name": "python3"
  },
  "language_info": {
   "codemirror_mode": {
    "name": "ipython",
    "version": 3
   },
   "file_extension": ".py",
   "mimetype": "text/x-python",
   "name": "python",
   "nbconvert_exporter": "python",
   "pygments_lexer": "ipython3",
   "version": "3.12.5"
  }
 },
 "nbformat": 4,
 "nbformat_minor": 5
}
